{
 "cells": [
  {
   "cell_type": "markdown",
   "metadata": {},
   "source": [
    "## Importing Data and Cleaning"
   ]
  },
  {
   "cell_type": "code",
   "execution_count": 22,
   "metadata": {
    "scrolled": true
   },
   "outputs": [
    {
     "name": "stderr",
     "output_type": "stream",
     "text": [
      "C:\\Users\\Cabot\\Anaconda3\\lib\\site-packages\\IPython\\core\\interactiveshell.py:2785: DtypeWarning: Columns (31,77,79,80,83,85,86,138,146,157,158,159,160,161,162,163,164,165,166,167,168,169,170,171,172,173,174,175,176,177,178,179,180,181,182,183,184,185,186,187,188,189,190,191,192,193,194,195,196,197,198,199,200,201,202,203,204,205,206,207,208,209,210,211,212,213,214,215,216,217,218,219,220,221,222,226,227,266,268,269,270,271,272,273,274,275,276,277,278,279,280,281,282,283,285,286,287,288,289,290,291,292,293,294,295,296,297,298,299,300,311,313,316) have mixed types. Specify dtype option on import or set low_memory=False.\n",
      "  interactivity=interactivity, compiler=compiler, result=result)\n",
      "C:\\Users\\Cabot\\Anaconda3\\lib\\site-packages\\IPython\\core\\interactiveshell.py:2785: DtypeWarning: Columns (64,113,118,150,156,161,193,267,316,317,456,458,503,572,605,607,648,649,651,653,658,660,662,664,673,674,719,720,722,723,724,725,800,801,804,805,806,808,809,810,811,812,813,814,815,816,817,828,829,830,831,833,834,835,836,837,838,839,840,841,843,844,845,846,847,849,851,862,864,865,866,867,869,872,875,877,878,879,880,881,885,887,888,889,890,891,901,902,903,910,911,913,914,917,923,924,925,938,939,940,941,942,943,956,957,958,959,960,961,962,963,964,965,966,967,968,969,970,971,972,973,974,975,976,977,979,980,984,985,987,988,990,991,992,993,994,995,996,997,998,999,1001,1002,1003,1004,1005,1006,1007,1009,1012,1013,1015,1017,1021,1022,1027,1028,1029,1030,1146,1147,1148,1149,1150,1156,1191,1192,1193,1198,1205,1209,1210,1211,1212,1213,1214,1215,1216,1217,1218,1221,1223,1226,1227,1240,1241) have mixed types. Specify dtype option on import or set low_memory=False.\n",
      "  interactivity=interactivity, compiler=compiler, result=result)\n"
     ]
    }
   ],
   "source": [
    "import pandas as pd\n",
    "import numpy as np\n",
    "import matplotlib.pyplot as plt\n",
    "from sklearn import model_selection\n",
    "from sklearn.linear_model import LogisticRegression\n",
    "from sklearn.tree import DecisionTreeClassifier\n",
    "from sklearn.neighbors import KNeighborsClassifier\n",
    "from sklearn.discriminant_analysis import LinearDiscriminantAnalysis\n",
    "from sklearn.naive_bayes import GaussianNB\n",
    "from sklearn.svm import SVC\n",
    "from sklearn.cluster import KMeans\n",
    "from sklearn.ensemble import RandomForestClassifier\n",
    "\n",
    "wk2 = pd.read_csv('Intermediate-Data/Week_2_data.csv')\n",
    "stemr = pd.read_csv('Intermediate-Data/FUllyMergedDataset.csv')\n",
    "idkey = pd.read_csv('Intermediate-Data/ID Key-6-3-18.csv')\n",
    "idkey2 = pd.read_csv('Intermediate-Data/username to id.csv')\n",
    "idkey = idkey.rename(columns ={'ID':'AnonID'})\n",
    "idkey2 = idkey2.rename(columns ={'Student Id':'AnonID'})\n",
    "\n"
   ]
  },
  {
   "cell_type": "code",
   "execution_count": 23,
   "metadata": {},
   "outputs": [
    {
     "data": {
      "text/plain": [
       "1282"
      ]
     },
     "execution_count": 23,
     "metadata": {},
     "output_type": "execute_result"
    }
   ],
   "source": [
    "len(wk2)"
   ]
  },
  {
   "cell_type": "code",
   "execution_count": 24,
   "metadata": {},
   "outputs": [],
   "source": [
    "wk2['SBonus1'].fillna(0,inplace = True)"
   ]
  },
  {
   "cell_type": "code",
   "execution_count": 25,
   "metadata": {},
   "outputs": [],
   "source": [
    "mathgrdstr = ['M126FirstGrade2','M128FirstGrade2','M129FirstGrade2','M153FirstGrade2','M154FirstGrade2',\n",
    "             'M155FirstGrade2','M156FirstGrade2']\n",
    "mathstr = ['M126ClassStr','M128ClassStr','M129ClassStr','M153ClassStr','M154ClassStr',\n",
    "             'M155ClassStr','M156ClassStr']\n"
   ]
  },
  {
   "cell_type": "code",
   "execution_count": 27,
   "metadata": {},
   "outputs": [],
   "source": [
    "\n",
    "for n in range(0,len(mathstr)):\n",
    "    stemr[mathgrdstr[n]] = stemr[mathstr[n]].astype(str).str[0]\n"
   ]
  },
  {
   "cell_type": "code",
   "execution_count": 28,
   "metadata": {},
   "outputs": [],
   "source": [
    "stemr['P111FirstGrade'] = stemr['P111FirstGrade'].astype(str).str[0]\n",
    "stemr['Cal1FirstGrade'] = stemr['Cal1FirstGrade'].astype(str).str[0]"
   ]
  },
  {
   "cell_type": "code",
   "execution_count": 29,
   "metadata": {},
   "outputs": [],
   "source": [
    "stemr2 = stemr[[    'AnonID',\n",
    "                    'High.School.GPA',\n",
    "                    'ACTSATMathPercentile',\n",
    "                    'ACTSATVerbalPercentile',\n",
    "                    'Sem1GPA','P111FirstGrade','Cal1FirstGrade','P112FirstGrade'   ]]\n"
   ]
  },
  {
   "cell_type": "code",
   "execution_count": 30,
   "metadata": {},
   "outputs": [],
   "source": [
    "stemr3 = pd.merge(stemr2,idkey2, on = 'AnonID')"
   ]
  },
  {
   "cell_type": "code",
   "execution_count": 31,
   "metadata": {},
   "outputs": [],
   "source": [
    "data = pd.merge(wk2, stemr3, on = 'Username')\n",
    "data = pd.merge(data, survey, on = 'Username')\n"
   ]
  },
  {
   "cell_type": "code",
   "execution_count": 32,
   "metadata": {},
   "outputs": [],
   "source": [
    "data = data[pd.notnull(data['P112FirstGrade'])]\n",
    "data['P112FirstGrade1'] = data.loc[:,'P112FirstGrade'].astype(str).str[0]\n",
    "\n",
    "data[\"FinalCourseGradeAB_Rest1\"] = np.where(data['P112FirstGrade1'] == \"A\",1,0)\n",
    "data[\"FinalCourseGradeAB_Rest1\"] = np.where(data['P112FirstGrade1'] == \"B\",1,data['FinalCourseGradeAB_Rest1'])\n",
    "\n",
    "data['Cal1FirstGradeNUM'] = 0\n",
    "\n",
    "data['Cal1FirstGradeNUM'] = np.where(data['Cal1FirstGrade'] == \"A\",4,0)\n",
    "data['Cal1FirstGradeNUM'] = np.where(data['Cal1FirstGrade'] == \"B\",3,data['Cal1FirstGradeNUM'])\n",
    "data['Cal1FirstGradeNUM'] = np.where(data['Cal1FirstGrade'] == \"C\",2,data['Cal1FirstGradeNUM'])\n",
    "data['Cal1FirstGradeNUM'] = np.where(data['Cal1FirstGrade'] == \"D\",1,data['Cal1FirstGradeNUM'])\n",
    "data['Cal1FirstGradeNUM'] = np.where(data['Cal1FirstGrade'] == \"W\",-1,data['Cal1FirstGradeNUM'])\n",
    "data['Cal1FirstGradeNUM'] = np.where(data['Cal1FirstGrade'] == \"n\",data['Sem1GPA'].round(1),data['Cal1FirstGradeNUM'])\n",
    "data['Cal1FirstGradeNUM'] = np.where(data['Cal1FirstGrade'] == \"P\",data['Sem1GPA'].round(1),data['Cal1FirstGradeNUM'])\n",
    "\n",
    "data['P111FirstGradeNUM'] = 0\n",
    "\n",
    "data['P111FirstGradeNUM'] = np.where(data['P111FirstGrade'] == \"A\",4,0)\n",
    "data['P111FirstGradeNUM'] = np.where(data['P111FirstGrade'] == \"B\",3,data['P111FirstGradeNUM'])\n",
    "data['P111FirstGradeNUM'] = np.where(data['P111FirstGrade'] == \"C\",2,data['P111FirstGradeNUM'])\n",
    "data['P111FirstGradeNUM'] = np.where(data['P111FirstGrade'] == \"D\",1,data['P111FirstGradeNUM'])\n",
    "data['P111FirstGradeNUM'] = np.where(data['P111FirstGrade'] == \"W\",-1,data['P111FirstGradeNUM'])\n",
    "data['P111FirstGradeNUM'] = np.where(data['P111FirstGrade'] == \"n\",data['Sem1GPA'].round(1),data['P111FirstGradeNUM'])\n",
    "data['P111FirstGradeNUM'] = np.where(data['P111FirstGrade'] == \"P\",data['Sem1GPA'].round(1),data['P111FirstGradeNUM'])"
   ]
  },
  {
   "cell_type": "code",
   "execution_count": 33,
   "metadata": {},
   "outputs": [],
   "source": [
    "data['TakeCSEM'] = np.where(data['TakeCSEM'] == \"Y\", 1,0)"
   ]
  },
  {
   "cell_type": "code",
   "execution_count": 34,
   "metadata": {},
   "outputs": [],
   "source": [
    "data['High.School.GPA'] = pd.to_numeric(data['High.School.GPA'], errors = \"coerce\")\n",
    "data['TakeCSEM'] = pd.to_numeric(data['TakeCSEM'], errors = \"coerce\")\n",
    "data2 = data[pd.notnull(data['High.School.GPA'])]\n",
    "data2 = data2[pd.notnull(data2['ACTSATMathPercentile'])]\n",
    "data2 = data2[pd.notnull(data2['ACTSATVerbalPercentile'])]\n",
    "data2 = data2[pd.notnull(data2['Sem1GPA'])]"
   ]
  },
  {
   "cell_type": "code",
   "execution_count": 35,
   "metadata": {},
   "outputs": [
    {
     "data": {
      "text/plain": [
       "['LabQ1',\n",
       " 'Lab2',\n",
       " 'LabQ2',\n",
       " 'FHwk2',\n",
       " 'LecQ1',\n",
       " 'LecQ5',\n",
       " 'Lab2Miss',\n",
       " 'Lec1Miss',\n",
       " 'Lec5Miss']"
      ]
     },
     "execution_count": 35,
     "metadata": {},
     "output_type": "execute_result"
    }
   ],
   "source": [
    "data2.columns[data2.isnull().any()].tolist()"
   ]
  },
  {
   "cell_type": "code",
   "execution_count": 36,
   "metadata": {},
   "outputs": [],
   "source": [
    "wk2 = data2"
   ]
  },
  {
   "cell_type": "code",
   "execution_count": 37,
   "metadata": {},
   "outputs": [],
   "source": [
    "wk2 = pd.DataFrame(wk2)\n"
   ]
  },
  {
   "cell_type": "code",
   "execution_count": 38,
   "metadata": {},
   "outputs": [],
   "source": [
    "wk2.columns[wk2.isnull().any()].tolist()\n",
    "wk2['LabQ1'].fillna(0,inplace = True)\n",
    "lecmis = ['Lec1Miss','Lec2Miss','Lec3Miss']\n",
    "wk2['MissedLectures'] = wk2[lecmis].sum(axis = 1)\n",
    "wk2['MissedAnyLectures'] = np.where(wk2['MissedLectures'] > 0, 1,0)"
   ]
  },
  {
   "cell_type": "code",
   "execution_count": 39,
   "metadata": {},
   "outputs": [],
   "source": [
    "wk2['LabQ1'].fillna(0,inplace = True)\n",
    "# Replace na values by column in dataframe"
   ]
  },
  {
   "cell_type": "code",
   "execution_count": 40,
   "metadata": {},
   "outputs": [
    {
     "data": {
      "text/html": [
       "<div>\n",
       "<style scoped>\n",
       "    .dataframe tbody tr th:only-of-type {\n",
       "        vertical-align: middle;\n",
       "    }\n",
       "\n",
       "    .dataframe tbody tr th {\n",
       "        vertical-align: top;\n",
       "    }\n",
       "\n",
       "    .dataframe thead th {\n",
       "        text-align: right;\n",
       "    }\n",
       "</style>\n",
       "<table border=\"1\" class=\"dataframe\">\n",
       "  <thead>\n",
       "    <tr style=\"text-align: right;\">\n",
       "      <th>col_0</th>\n",
       "      <th>count</th>\n",
       "    </tr>\n",
       "    <tr>\n",
       "      <th>LecQ1</th>\n",
       "      <th></th>\n",
       "    </tr>\n",
       "  </thead>\n",
       "  <tbody>\n",
       "    <tr>\n",
       "      <th>0.0</th>\n",
       "      <td>35</td>\n",
       "    </tr>\n",
       "    <tr>\n",
       "      <th>2.0</th>\n",
       "      <td>293</td>\n",
       "    </tr>\n",
       "  </tbody>\n",
       "</table>\n",
       "</div>"
      ],
      "text/plain": [
       "col_0  count\n",
       "LecQ1       \n",
       "0.0       35\n",
       "2.0      293"
      ]
     },
     "execution_count": 40,
     "metadata": {},
     "output_type": "execute_result"
    }
   ],
   "source": [
    "pd.crosstab(index = wk2['LecQ1'], columns = \"count\")"
   ]
  },
  {
   "cell_type": "markdown",
   "metadata": {},
   "source": [
    "## Making New Columns For Analysis"
   ]
  },
  {
   "cell_type": "code",
   "execution_count": 41,
   "metadata": {},
   "outputs": [],
   "source": [
    "import re\n",
    "\n",
    "regLecMis = re.compile(\".*(Lec)\\d(Miss).*\")\n",
    "lecmis = [m.group(0) for l in list(wk2) for m in[regLecMis.search(l)] if m]"
   ]
  },
  {
   "cell_type": "code",
   "execution_count": 42,
   "metadata": {},
   "outputs": [],
   "source": [
    "wk2['MissedLectures'] = wk2[lecmis].sum(axis = 1, skipna = True)\n",
    "#Sum over the missed lectures"
   ]
  },
  {
   "cell_type": "code",
   "execution_count": 43,
   "metadata": {},
   "outputs": [
    {
     "data": {
      "text/plain": [
       "22      1\n",
       "23      1\n",
       "24      1\n",
       "25      1\n",
       "115     1\n",
       "116     1\n",
       "117     1\n",
       "118     1\n",
       "171     1\n",
       "172     1\n",
       "173     1\n",
       "174     1\n",
       "202     1\n",
       "203     1\n",
       "204     1\n",
       "205     1\n",
       "235     1\n",
       "236     1\n",
       "237     1\n",
       "238     1\n",
       "252     1\n",
       "253     1\n",
       "273     1\n",
       "274     1\n",
       "275     1\n",
       "276     1\n",
       "277     1\n",
       "278     1\n",
       "279     0\n",
       "280     0\n",
       "       ..\n",
       "1304    0\n",
       "1305    0\n",
       "1306    0\n",
       "1307    0\n",
       "1308    0\n",
       "1309    0\n",
       "1310    0\n",
       "1311    0\n",
       "1312    0\n",
       "1313    0\n",
       "1314    0\n",
       "1315    0\n",
       "1316    0\n",
       "1317    0\n",
       "1318    0\n",
       "1319    0\n",
       "1320    0\n",
       "1321    0\n",
       "1322    0\n",
       "1323    0\n",
       "1324    0\n",
       "1325    0\n",
       "1326    0\n",
       "1327    0\n",
       "1328    0\n",
       "1329    0\n",
       "1330    0\n",
       "1331    0\n",
       "1332    0\n",
       "1333    0\n",
       "Name: TakeCSEM, Length: 601, dtype: int32"
      ]
     },
     "execution_count": 43,
     "metadata": {},
     "output_type": "execute_result"
    }
   ],
   "source": [
    "wk2['MissedAnyLectures'] = np.where(wk2['MissedLectures'] > 0, 1,0)\n"
   ]
  },
  {
   "cell_type": "code",
   "execution_count": 44,
   "metadata": {},
   "outputs": [],
   "source": [
    "regex = re.compile(\".*(LecQ).\")\n",
    "regLabQ = re.compile(\".*(LabQ).\")\n",
    "regLab1 = re.compile(\".*(Lab)\\d.*\")\n",
    "regLab2 = re.compile(\"^\\w{4,4}$\")\n",
    "regHw = re.compile(\".*(FHwk).\")\n",
    "#Define what we want out of the string\n",
    "\n",
    "lecQs = [m.group(0) for l in list(wk2) for m in[regex.search(l)] if m]\n",
    "#Creates a list \"lecQs\" for all of the instances of Lecture Quiz http://www.cademuir.eu/blog/2011/10/20/python-searching-for-a-string-within-a-list-list-comprehension/\n",
    "labQs = [m.group(0) for l in list(wk2) for m in[regLabQ.search(l)] if m]\n",
    "labs = [m.group(0) for l in list(wk2) for m in[regLab1.search(l)] if m]\n",
    "labs = [m.group(0) for l in list(labs) for m in[regLab2.search(l)] if m]\n",
    "Fhwks = [m.group(0) for l in list(wk2) for m in[regHw.search(l)] if m]"
   ]
  },
  {
   "cell_type": "code",
   "execution_count": 45,
   "metadata": {},
   "outputs": [],
   "source": [
    "wk2[lecQs] = np.where(wk2[lecQs] < 0, 0,wk2[lecQs])\n",
    "wk2['LecQGrade'] = wk2[lecQs].mean(axis = 1, skipna = True)\n",
    "#LecQAve\n",
    "wk2['LabQGrade'] = wk2[labQs].mean(axis = 1, skipna = True)\n",
    "wk2['HWGrade'] = wk2[Fhwks].mean(axis = 1, skipna = True)"
   ]
  },
  {
   "cell_type": "code",
   "execution_count": 46,
   "metadata": {},
   "outputs": [],
   "source": [
    "wk2[labs] = np.where(wk2[labs] < 0, 0,wk2[labs])\n",
    "#wk2 = pd.concat([wk2, pd.get_dummies(wk2['LectureSection'],prefix = \"LectureSection\")], axis = 1)\n",
    "wk2 = pd.concat([wk2, pd.get_dummies(wk2['LabDay'],prefix = \"LD\")], axis = 1)"
   ]
  },
  {
   "cell_type": "code",
   "execution_count": 48,
   "metadata": {},
   "outputs": [
    {
     "data": {
      "text/plain": [
       "['Unnamed: 0',\n",
       " 'Username',\n",
       " 'LectureSection',\n",
       " 'LabSection',\n",
       " 'CourseAveNoDrop',\n",
       " 'TstAve',\n",
       " 'Lab1',\n",
       " 'LabQ1',\n",
       " 'CSEMPretestPercent',\n",
       " 'Lab2',\n",
       " 'LabQ2',\n",
       " 'SBonus1',\n",
       " 'FinalCourseGrade',\n",
       " 'FHwk1',\n",
       " 'FHwk2',\n",
       " 'LecQ1',\n",
       " 'LecQ2',\n",
       " 'LecQ3',\n",
       " 'LecQ4',\n",
       " 'LecQ5',\n",
       " 'LecQ6',\n",
       " 'LabDay',\n",
       " 'LabTime',\n",
       " 'FinalCourseGrade2',\n",
       " 'FinalCourseGradePF',\n",
       " 'FinalCourseGradeAB_C_DF',\n",
       " 'FinalCourseGradeAB_Rest',\n",
       " 'TakeCSEM',\n",
       " 'Lab1Miss',\n",
       " 'Lab2Miss',\n",
       " 'DidFHwk1',\n",
       " 'DidFHwk2',\n",
       " 'Lec1Miss',\n",
       " 'Lec2Miss',\n",
       " 'Lec3Miss',\n",
       " 'Lec4Miss',\n",
       " 'Lec5Miss',\n",
       " 'Lec6Miss',\n",
       " 'AnonID',\n",
       " 'High.School.GPA',\n",
       " 'ACTSATMathPercentile',\n",
       " 'ACTSATVerbalPercentile',\n",
       " 'Sem1GPA',\n",
       " 'P111FirstGrade',\n",
       " 'Cal1FirstGrade',\n",
       " 'P112FirstGrade',\n",
       " 'IsFall',\n",
       " 'IsHonors',\n",
       " 'Classification',\n",
       " 'TAexperience',\n",
       " 'P112FirstGrade1',\n",
       " 'FinalCourseGradeAB_Rest1',\n",
       " 'Cal1FirstGradeNUM',\n",
       " 'P111FirstGradeNUM',\n",
       " 'MissedLectures',\n",
       " 'MissedAnyLectures',\n",
       " 'LecQGrade',\n",
       " 'LabQGrade',\n",
       " 'HWGrade',\n",
       " 'LD_F',\n",
       " 'LD_M',\n",
       " 'LD_R',\n",
       " 'LD_T',\n",
       " 'LD_W']"
      ]
     },
     "execution_count": 48,
     "metadata": {},
     "output_type": "execute_result"
    }
   ],
   "source": [
    "list(wk2)"
   ]
  },
  {
   "cell_type": "markdown",
   "metadata": {},
   "source": [
    "# Optimal Model Class Dataset"
   ]
  },
  {
   "cell_type": "code",
   "execution_count": 49,
   "metadata": {},
   "outputs": [],
   "source": [
    "from sklearn.metrics import accuracy_score\n",
    "from sklearn.metrics import cohen_kappa_score\n",
    "from sklearn.model_selection import train_test_split\n",
    "\n",
    "names2 = [ 'LecQGrade', 'LabQGrade', 'HWGrade',\n",
    " 'MissedLectures',\n",
    " 'MissedAnyLectures',\n",
    " 'SBonus1']\n",
    "\n",
    "X = wk2[names2]\n",
    "Y = wk2.filter(['FinalCourseGradeAB_Rest1'], axis = 1)\n",
    "Xtrain, Xtest, Ytrain, Ytest = train_test_split(\n",
    "    X,Y, test_size = 0.3, random_state = 416)"
   ]
  },
  {
   "cell_type": "code",
   "execution_count": 50,
   "metadata": {},
   "outputs": [
    {
     "data": {
      "text/plain": [
       "['FinalCourseGradeAB_Rest1']"
      ]
     },
     "execution_count": 50,
     "metadata": {},
     "output_type": "execute_result"
    }
   ],
   "source": [
    "list(Y)"
   ]
  },
  {
   "cell_type": "code",
   "execution_count": 51,
   "metadata": {},
   "outputs": [
    {
     "data": {
      "text/plain": [
       "RandomForestClassifier(bootstrap=True, class_weight=None, criterion='gini',\n",
       "            max_depth=None, max_features='auto', max_leaf_nodes=None,\n",
       "            min_impurity_decrease=0.0, min_impurity_split=None,\n",
       "            min_samples_leaf=1, min_samples_split=2,\n",
       "            min_weight_fraction_leaf=0.0, n_estimators=10000, n_jobs=1,\n",
       "            oob_score=False, random_state=416, verbose=0, warm_start=False)"
      ]
     },
     "execution_count": 51,
     "metadata": {},
     "output_type": "execute_result"
    }
   ],
   "source": [
    "forest = RandomForestClassifier(n_estimators = 10000, random_state = 416)\n",
    "forest.fit(Xtrain, Ytrain.values.ravel())"
   ]
  },
  {
   "cell_type": "code",
   "execution_count": 52,
   "metadata": {},
   "outputs": [
    {
     "data": {
      "image/png": "[encoded data removed]",
      "text/plain": [
       "<Figure size 360x792 with 1 Axes>"
      ]
     },
     "metadata": {},
     "output_type": "display_data"
    }
   ],
   "source": [
    "n_features = Xtrain.shape[1]\n",
    "\n",
    "plt.figure(figsize=(5,11))\n",
    "plt.barh(range(n_features), forest.feature_importances_, align = 'center')\n",
    "plt.yticks(np.arange(n_features), list(Xtrain))\n",
    "plt.xlabel(\"Feature Importance\")\n",
    "plt.ylabel(\"Feature\")\n",
    "plt.ylim(-1, n_features)\n",
    "plt.show()"
   ]
  },
  {
   "cell_type": "code",
   "execution_count": 53,
   "metadata": {},
   "outputs": [],
   "source": [
    "prediction = forest.predict(Xtest)"
   ]
  },
  {
   "cell_type": "code",
   "execution_count": 54,
   "metadata": {},
   "outputs": [],
   "source": [
    "BLmeanAcc = 0.545191011236"
   ]
  },
  {
   "cell_type": "code",
   "execution_count": 55,
   "metadata": {},
   "outputs": [
    {
     "name": "stdout",
     "output_type": "stream",
     "text": [
      "Accuracy:  0.7513812154696132\n"
     ]
    }
   ],
   "source": [
    "forestAcc = accuracy_score(Ytest, prediction)\n",
    "print(\"Accuracy: \",forestAcc)"
   ]
  },
  {
   "cell_type": "code",
   "execution_count": 56,
   "metadata": {},
   "outputs": [
    {
     "name": "stdout",
     "output_type": "stream",
     "text": [
      "Improvement over baseline:  0.20619020423361323\n"
     ]
    }
   ],
   "source": [
    "forestAboveBaseline = forestAcc - BLmeanAcc\n",
    "print(\"Improvement over baseline: \", forestAboveBaseline)"
   ]
  },
  {
   "cell_type": "code",
   "execution_count": 57,
   "metadata": {},
   "outputs": [
    {
     "name": "stdout",
     "output_type": "stream",
     "text": [
      "Cohen's Kappa:  0.48025014357730844\n"
     ]
    }
   ],
   "source": [
    "forestKappa = cohen_kappa_score(Ytest,prediction)\n",
    "print(\"Cohen's Kappa: \",forestKappa)"
   ]
  },
  {
   "cell_type": "markdown",
   "metadata": {},
   "source": [
    "### Remove MissAnyLectures *** Optimal"
   ]
  },
  {
   "cell_type": "code",
   "execution_count": 58,
   "metadata": {},
   "outputs": [],
   "source": [
    "from sklearn.metrics import accuracy_score\n",
    "from sklearn.metrics import cohen_kappa_score\n",
    "from sklearn.model_selection import train_test_split\n",
    "\n",
    "names2 = [ 'LecQGrade', 'LabQGrade', 'HWGrade',\n",
    " 'MissedLectures',\n",
    " 'SBonus1']\n",
    "\n",
    "X = wk2[names2]\n",
    "Y = wk2.filter(['FinalCourseGradeAB_Rest1'], axis = 1)\n",
    "Xtrain, Xtest, Ytrain, Ytest = train_test_split(\n",
    "    X,Y, test_size = 0.3, random_state = 416)"
   ]
  },
  {
   "cell_type": "code",
   "execution_count": 59,
   "metadata": {},
   "outputs": [
    {
     "data": {
      "text/plain": [
       "['FinalCourseGradeAB_Rest1']"
      ]
     },
     "execution_count": 59,
     "metadata": {},
     "output_type": "execute_result"
    }
   ],
   "source": [
    "list(Y)"
   ]
  },
  {
   "cell_type": "code",
   "execution_count": 60,
   "metadata": {},
   "outputs": [
    {
     "data": {
      "text/plain": [
       "RandomForestClassifier(bootstrap=True, class_weight=None, criterion='gini',\n",
       "            max_depth=None, max_features='auto', max_leaf_nodes=None,\n",
       "            min_impurity_decrease=0.0, min_impurity_split=None,\n",
       "            min_samples_leaf=1, min_samples_split=2,\n",
       "            min_weight_fraction_leaf=0.0, n_estimators=10000, n_jobs=1,\n",
       "            oob_score=False, random_state=416, verbose=0, warm_start=False)"
      ]
     },
     "execution_count": 60,
     "metadata": {},
     "output_type": "execute_result"
    }
   ],
   "source": [
    "forest = RandomForestClassifier(n_estimators = 10000, random_state = 416)\n",
    "forest.fit(Xtrain, Ytrain.values.ravel())"
   ]
  },
  {
   "cell_type": "code",
   "execution_count": 61,
   "metadata": {},
   "outputs": [
    {
     "data": {
      "image/png": "[encoded data removed]",
      "text/plain": [
       "<Figure size 360x792 with 1 Axes>"
      ]
     },
     "metadata": {},
     "output_type": "display_data"
    }
   ],
   "source": [
    "n_features = Xtrain.shape[1]\n",
    "\n",
    "plt.figure(figsize=(5,11))\n",
    "plt.barh(range(n_features), forest.feature_importances_, align = 'center')\n",
    "plt.yticks(np.arange(n_features), list(Xtrain))\n",
    "plt.xlabel(\"Feature Importance\")\n",
    "plt.ylabel(\"Feature\")\n",
    "plt.ylim(-1, n_features)\n",
    "plt.show()"
   ]
  },
  {
   "cell_type": "code",
   "execution_count": 62,
   "metadata": {},
   "outputs": [],
   "source": [
    "prediction = forest.predict(Xtest)"
   ]
  },
  {
   "cell_type": "code",
   "execution_count": 63,
   "metadata": {},
   "outputs": [],
   "source": [
    "BLmeanAcc = 0.545191011236"
   ]
  },
  {
   "cell_type": "code",
   "execution_count": 64,
   "metadata": {},
   "outputs": [
    {
     "name": "stdout",
     "output_type": "stream",
     "text": [
      "Accuracy:  0.7513812154696132\n"
     ]
    }
   ],
   "source": [
    "forestAcc = accuracy_score(Ytest, prediction)\n",
    "print(\"Accuracy: \",forestAcc)"
   ]
  },
  {
   "cell_type": "code",
   "execution_count": 65,
   "metadata": {},
   "outputs": [
    {
     "name": "stdout",
     "output_type": "stream",
     "text": [
      "Improvement over baseline:  0.20619020423361323\n"
     ]
    }
   ],
   "source": [
    "forestAboveBaseline = forestAcc - BLmeanAcc\n",
    "print(\"Improvement over baseline: \", forestAboveBaseline)"
   ]
  },
  {
   "cell_type": "code",
   "execution_count": 66,
   "metadata": {},
   "outputs": [
    {
     "name": "stdout",
     "output_type": "stream",
     "text": [
      "Cohen's Kappa:  0.48025014357730844\n"
     ]
    }
   ],
   "source": [
    "forestKappa = cohen_kappa_score(Ytest,prediction)\n",
    "print(\"Cohen's Kappa: \",forestKappa)"
   ]
  },
  {
   "cell_type": "markdown",
   "metadata": {},
   "source": [
    "### Remove Survey Bonus"
   ]
  },
  {
   "cell_type": "code",
   "execution_count": 67,
   "metadata": {},
   "outputs": [],
   "source": [
    "from sklearn.metrics import accuracy_score\n",
    "from sklearn.metrics import cohen_kappa_score\n",
    "from sklearn.model_selection import train_test_split\n",
    "\n",
    "names2 = [ 'LecQGrade', 'LabQGrade', 'HWGrade',\n",
    " 'MissedLectures']\n",
    "\n",
    "X = wk2[names2]\n",
    "Y = wk2.filter(['FinalCourseGradeAB_Rest1'], axis = 1)\n",
    "Xtrain, Xtest, Ytrain, Ytest = train_test_split(\n",
    "    X,Y, test_size = 0.3, random_state = 416)"
   ]
  },
  {
   "cell_type": "code",
   "execution_count": 68,
   "metadata": {},
   "outputs": [
    {
     "data": {
      "text/plain": [
       "['FinalCourseGradeAB_Rest1']"
      ]
     },
     "execution_count": 68,
     "metadata": {},
     "output_type": "execute_result"
    }
   ],
   "source": [
    "list(Y)"
   ]
  },
  {
   "cell_type": "code",
   "execution_count": 69,
   "metadata": {},
   "outputs": [
    {
     "data": {
      "text/plain": [
       "RandomForestClassifier(bootstrap=True, class_weight=None, criterion='gini',\n",
       "            max_depth=None, max_features='auto', max_leaf_nodes=None,\n",
       "            min_impurity_decrease=0.0, min_impurity_split=None,\n",
       "            min_samples_leaf=1, min_samples_split=2,\n",
       "            min_weight_fraction_leaf=0.0, n_estimators=10000, n_jobs=1,\n",
       "            oob_score=False, random_state=416, verbose=0, warm_start=False)"
      ]
     },
     "execution_count": 69,
     "metadata": {},
     "output_type": "execute_result"
    }
   ],
   "source": [
    "forest = RandomForestClassifier(n_estimators = 10000, random_state = 416)\n",
    "forest.fit(Xtrain, Ytrain.values.ravel())"
   ]
  },
  {
   "cell_type": "code",
   "execution_count": 70,
   "metadata": {},
   "outputs": [
    {
     "data": {
      "image/png": "[encoded data removed]",
      "text/plain": [
       "<Figure size 360x792 with 1 Axes>"
      ]
     },
     "metadata": {},
     "output_type": "display_data"
    }
   ],
   "source": [
    "n_features = Xtrain.shape[1]\n",
    "\n",
    "plt.figure(figsize=(5,11))\n",
    "plt.barh(range(n_features), forest.feature_importances_, align = 'center')\n",
    "plt.yticks(np.arange(n_features), list(Xtrain))\n",
    "plt.xlabel(\"Feature Importance\")\n",
    "plt.ylabel(\"Feature\")\n",
    "plt.ylim(-1, n_features)\n",
    "plt.show()"
   ]
  },
  {
   "cell_type": "code",
   "execution_count": 71,
   "metadata": {},
   "outputs": [],
   "source": [
    "prediction = forest.predict(Xtest)"
   ]
  },
  {
   "cell_type": "code",
   "execution_count": 72,
   "metadata": {},
   "outputs": [],
   "source": [
    "BLmeanAcc = 0.545191011236"
   ]
  },
  {
   "cell_type": "code",
   "execution_count": 73,
   "metadata": {},
   "outputs": [
    {
     "name": "stdout",
     "output_type": "stream",
     "text": [
      "Accuracy:  0.7237569060773481\n"
     ]
    }
   ],
   "source": [
    "forestAcc = accuracy_score(Ytest, prediction)\n",
    "print(\"Accuracy: \",forestAcc)"
   ]
  },
  {
   "cell_type": "code",
   "execution_count": 74,
   "metadata": {},
   "outputs": [
    {
     "name": "stdout",
     "output_type": "stream",
     "text": [
      "Improvement over baseline:  0.1785658948413481\n"
     ]
    }
   ],
   "source": [
    "forestAboveBaseline = forestAcc - BLmeanAcc\n",
    "print(\"Improvement over baseline: \", forestAboveBaseline)"
   ]
  },
  {
   "cell_type": "code",
   "execution_count": 75,
   "metadata": {},
   "outputs": [
    {
     "name": "stdout",
     "output_type": "stream",
     "text": [
      "Cohen's Kappa:  0.4188286668379142\n"
     ]
    }
   ],
   "source": [
    "forestKappa = cohen_kappa_score(Ytest,prediction)\n",
    "print(\"Cohen's Kappa: \",forestKappa)"
   ]
  },
  {
   "cell_type": "markdown",
   "metadata": {},
   "source": [
    "### Cut at 0.01"
   ]
  },
  {
   "cell_type": "code",
   "execution_count": 76,
   "metadata": {},
   "outputs": [],
   "source": [
    "from sklearn.metrics import accuracy_score\n",
    "from sklearn.metrics import cohen_kappa_score\n",
    "from sklearn.model_selection import train_test_split\n",
    "\n",
    "names2 = [ 'LecQGrade', 'LabQGrade', 'HWGrade']\n",
    "\n",
    "X = wk2[names2]\n",
    "Y = wk2.filter(['FinalCourseGradeAB_Rest1'], axis = 1)\n",
    "Xtrain, Xtest, Ytrain, Ytest = train_test_split(\n",
    "    X,Y, test_size = 0.3, random_state = 416)"
   ]
  },
  {
   "cell_type": "code",
   "execution_count": 77,
   "metadata": {},
   "outputs": [
    {
     "data": {
      "text/plain": [
       "['FinalCourseGradeAB_Rest1']"
      ]
     },
     "execution_count": 77,
     "metadata": {},
     "output_type": "execute_result"
    }
   ],
   "source": [
    "list(Y)"
   ]
  },
  {
   "cell_type": "code",
   "execution_count": 78,
   "metadata": {},
   "outputs": [
    {
     "data": {
      "text/plain": [
       "RandomForestClassifier(bootstrap=True, class_weight=None, criterion='gini',\n",
       "            max_depth=None, max_features='auto', max_leaf_nodes=None,\n",
       "            min_impurity_decrease=0.0, min_impurity_split=None,\n",
       "            min_samples_leaf=1, min_samples_split=2,\n",
       "            min_weight_fraction_leaf=0.0, n_estimators=10000, n_jobs=1,\n",
       "            oob_score=False, random_state=416, verbose=0, warm_start=False)"
      ]
     },
     "execution_count": 78,
     "metadata": {},
     "output_type": "execute_result"
    }
   ],
   "source": [
    "forest = RandomForestClassifier(n_estimators = 10000, random_state = 416)\n",
    "forest.fit(Xtrain, Ytrain.values.ravel())"
   ]
  },
  {
   "cell_type": "code",
   "execution_count": 79,
   "metadata": {},
   "outputs": [
    {
     "data": {
      "image/png": "[encoded data removed]",
      "text/plain": [
       "<Figure size 360x792 with 1 Axes>"
      ]
     },
     "metadata": {},
     "output_type": "display_data"
    }
   ],
   "source": [
    "n_features = Xtrain.shape[1]\n",
    "\n",
    "plt.figure(figsize=(5,11))\n",
    "plt.barh(range(n_features), forest.feature_importances_, align = 'center')\n",
    "plt.yticks(np.arange(n_features), list(Xtrain))\n",
    "plt.xlabel(\"Feature Importance\")\n",
    "plt.ylabel(\"Feature\")\n",
    "plt.ylim(-1, n_features)\n",
    "plt.show()"
   ]
  },
  {
   "cell_type": "code",
   "execution_count": 80,
   "metadata": {},
   "outputs": [],
   "source": [
    "prediction = forest.predict(Xtest)"
   ]
  },
  {
   "cell_type": "code",
   "execution_count": 81,
   "metadata": {},
   "outputs": [],
   "source": [
    "BLmeanAcc = 0.545191011236"
   ]
  },
  {
   "cell_type": "code",
   "execution_count": 82,
   "metadata": {},
   "outputs": [
    {
     "name": "stdout",
     "output_type": "stream",
     "text": [
      "Accuracy:  0.7403314917127072\n"
     ]
    }
   ],
   "source": [
    "forestAcc = accuracy_score(Ytest, prediction)\n",
    "print(\"Accuracy: \",forestAcc)"
   ]
  },
  {
   "cell_type": "code",
   "execution_count": 83,
   "metadata": {},
   "outputs": [
    {
     "name": "stdout",
     "output_type": "stream",
     "text": [
      "Improvement over baseline:  0.19514048047670718\n"
     ]
    }
   ],
   "source": [
    "forestAboveBaseline = forestAcc - BLmeanAcc\n",
    "print(\"Improvement over baseline: \", forestAboveBaseline)"
   ]
  },
  {
   "cell_type": "code",
   "execution_count": 84,
   "metadata": {
    "scrolled": true
   },
   "outputs": [
    {
     "name": "stdout",
     "output_type": "stream",
     "text": [
      "Cohen's Kappa:  0.45485421339314325\n"
     ]
    }
   ],
   "source": [
    "forestKappa = cohen_kappa_score(Ytest,prediction)\n",
    "print(\"Cohen's Kappa: \",forestKappa)"
   ]
  },
  {
   "cell_type": "markdown",
   "metadata": {},
   "source": [
    "### Just HW grade"
   ]
  },
  {
   "cell_type": "code",
   "execution_count": 85,
   "metadata": {},
   "outputs": [],
   "source": [
    "logreg = LogisticRegression()\n",
    "X2 = Xtrain['HWGrade']\n",
    "X3 = Xtest['HWGrade']"
   ]
  },
  {
   "cell_type": "code",
   "execution_count": 86,
   "metadata": {},
   "outputs": [],
   "source": [
    "X2 = pd.DataFrame(X2)\n",
    "X3 = pd.DataFrame(X3)"
   ]
  },
  {
   "cell_type": "code",
   "execution_count": 87,
   "metadata": {},
   "outputs": [
    {
     "data": {
      "text/plain": [
       "LogisticRegression(C=1.0, class_weight=None, dual=False, fit_intercept=True,\n",
       "          intercept_scaling=1, max_iter=100, multi_class='ovr', n_jobs=1,\n",
       "          penalty='l2', random_state=None, solver='liblinear', tol=0.0001,\n",
       "          verbose=0, warm_start=False)"
      ]
     },
     "execution_count": 87,
     "metadata": {},
     "output_type": "execute_result"
    }
   ],
   "source": [
    "logreg.fit(X2, Ytrain.values.ravel())"
   ]
  },
  {
   "cell_type": "code",
   "execution_count": 88,
   "metadata": {},
   "outputs": [],
   "source": [
    "predictions = logreg.predict(X3)"
   ]
  },
  {
   "cell_type": "code",
   "execution_count": 89,
   "metadata": {},
   "outputs": [
    {
     "data": {
      "text/plain": [
       "0.7071823204419889"
      ]
     },
     "execution_count": 89,
     "metadata": {},
     "output_type": "execute_result"
    }
   ],
   "source": [
    "accuracy_score(Ytest, predictions)"
   ]
  },
  {
   "cell_type": "code",
   "execution_count": 90,
   "metadata": {},
   "outputs": [],
   "source": [
    "from sklearn.metrics import accuracy_score\n",
    "from sklearn.metrics import cohen_kappa_score\n",
    "from sklearn.model_selection import train_test_split\n",
    "\n",
    "names2 = ['HWGrade']\n",
    "\n",
    "X = wk2[names2]\n",
    "Y = wk2.filter(['FinalCourseGradeAB_Rest1'], axis = 1)\n",
    "Xtrain, Xtest, Ytrain, Ytest = train_test_split(\n",
    "    X,Y, test_size = 0.3, random_state = 416)"
   ]
  },
  {
   "cell_type": "code",
   "execution_count": 91,
   "metadata": {},
   "outputs": [
    {
     "data": {
      "text/plain": [
       "['FinalCourseGradeAB_Rest1']"
      ]
     },
     "execution_count": 91,
     "metadata": {},
     "output_type": "execute_result"
    }
   ],
   "source": [
    "list(Y)"
   ]
  },
  {
   "cell_type": "code",
   "execution_count": 92,
   "metadata": {},
   "outputs": [
    {
     "data": {
      "text/plain": [
       "RandomForestClassifier(bootstrap=True, class_weight=None, criterion='gini',\n",
       "            max_depth=None, max_features='auto', max_leaf_nodes=None,\n",
       "            min_impurity_decrease=0.0, min_impurity_split=None,\n",
       "            min_samples_leaf=1, min_samples_split=2,\n",
       "            min_weight_fraction_leaf=0.0, n_estimators=10000, n_jobs=1,\n",
       "            oob_score=False, random_state=416, verbose=0, warm_start=False)"
      ]
     },
     "execution_count": 92,
     "metadata": {},
     "output_type": "execute_result"
    }
   ],
   "source": [
    "forest = RandomForestClassifier(n_estimators = 10000, random_state = 416)\n",
    "forest.fit(Xtrain, Ytrain.values.ravel())"
   ]
  },
  {
   "cell_type": "code",
   "execution_count": 93,
   "metadata": {},
   "outputs": [
    {
     "data": {
      "image/png": "[encoded data removed]",
      "text/plain": [
       "<Figure size 360x792 with 1 Axes>"
      ]
     },
     "metadata": {},
     "output_type": "display_data"
    }
   ],
   "source": [
    "n_features = Xtrain.shape[1]\n",
    "\n",
    "plt.figure(figsize=(5,11))\n",
    "plt.barh(range(n_features), forest.feature_importances_, align = 'center')\n",
    "plt.yticks(np.arange(n_features), list(Xtrain))\n",
    "plt.xlabel(\"Feature Importance\")\n",
    "plt.ylabel(\"Feature\")\n",
    "plt.ylim(-1, n_features)\n",
    "plt.show()"
   ]
  },
  {
   "cell_type": "code",
   "execution_count": 94,
   "metadata": {},
   "outputs": [],
   "source": [
    "prediction = forest.predict(Xtest)"
   ]
  },
  {
   "cell_type": "code",
   "execution_count": 95,
   "metadata": {},
   "outputs": [],
   "source": [
    "BLmeanAcc = 0.545191011236"
   ]
  },
  {
   "cell_type": "code",
   "execution_count": 96,
   "metadata": {},
   "outputs": [
    {
     "name": "stdout",
     "output_type": "stream",
     "text": [
      "Accuracy:  0.6740331491712708\n"
     ]
    }
   ],
   "source": [
    "forestAcc = accuracy_score(Ytest, prediction)\n",
    "print(\"Accuracy: \",forestAcc)"
   ]
  },
  {
   "cell_type": "code",
   "execution_count": 97,
   "metadata": {},
   "outputs": [
    {
     "name": "stdout",
     "output_type": "stream",
     "text": [
      "Improvement over baseline:  0.12884213793527077\n"
     ]
    }
   ],
   "source": [
    "forestAboveBaseline = forestAcc - BLmeanAcc\n",
    "print(\"Improvement over baseline: \", forestAboveBaseline)"
   ]
  },
  {
   "cell_type": "code",
   "execution_count": 98,
   "metadata": {
    "scrolled": true
   },
   "outputs": [
    {
     "name": "stdout",
     "output_type": "stream",
     "text": [
      "Cohen's Kappa:  0.3068734990588693\n"
     ]
    }
   ],
   "source": [
    "forestKappa = cohen_kappa_score(Ytest,prediction)\n",
    "print(\"Cohen's Kappa: \",forestKappa)"
   ]
  },
  {
   "cell_type": "markdown",
   "metadata": {},
   "source": [
    "## Layered Model with Demo-Variables"
   ]
  },
  {
   "cell_type": "code",
   "execution_count": 99,
   "metadata": {},
   "outputs": [
    {
     "name": "stdout",
     "output_type": "stream",
     "text": [
      "LecQGrade                 float64\n",
      "LabQGrade                 float64\n",
      "HWGrade                   float64\n",
      "MissedLectures            float64\n",
      "SBonus1                   float64\n",
      "High.School.GPA           float64\n",
      "ACTSATMathPercentile      float64\n",
      "ACTSATVerbalPercentile    float64\n",
      "Sem1GPA                   float64\n",
      "P111FirstGradeNUM         float64\n",
      "Cal1FirstGradeNUM         float64\n",
      "dtype: object\n"
     ]
    }
   ],
   "source": [
    "from sklearn.model_selection import train_test_split\n",
    "\n",
    "\n",
    "names = [ 'LecQGrade', 'LabQGrade', 'HWGrade',\n",
    " 'MissedLectures',\n",
    " 'SBonus1',\"High.School.GPA\",\"ACTSATMathPercentile\",\"ACTSATVerbalPercentile\",\"Sem1GPA\",\n",
    "'P111FirstGradeNUM',\"Cal1FirstGradeNUM\"]\n",
    "\n",
    "wk2['FinalCourseGradeAB_Rest1'] = np.where(wk2['FinalCourseGradeAB_Rest'] == \"AB\", 1,0)\n",
    "#X = wk2.drop('FinalCourseGradeAB_Rest', axis = 1)\n",
    "X = wk2[names]\n",
    "Y = wk2.filter(['FinalCourseGradeAB_Rest1'], axis = 1)\n",
    "Xtrain, Xtest, Ytrain, Ytest = train_test_split(\n",
    "    X,Y, test_size = 0.3, random_state = 416)\n",
    "\n",
    "\n",
    "print(Xtrain.dtypes)"
   ]
  },
  {
   "cell_type": "markdown",
   "metadata": {},
   "source": [
    "### Evaluation of Best ML Algorithm"
   ]
  },
  {
   "cell_type": "code",
   "execution_count": 100,
   "metadata": {},
   "outputs": [
    {
     "name": "stdout",
     "output_type": "stream",
     "text": [
      "LR: 0.807143 (0.060656)\n",
      "LDA: 0.811905 (0.072570)\n",
      "KNN: 0.726190 (0.070026)\n",
      "CART: 0.809524 (0.078967)\n",
      "NB: 0.785714 (0.059285)\n",
      "SVM: 0.745238 (0.078282)\n",
      "RF: 0.814286 (0.060045)\n",
      "LR: 0.790058 (0.064683)\n",
      "LDA: 0.778655 (0.075233)\n",
      "KNN: 0.708187 (0.090943)\n",
      "CART: 0.728947 (0.137570)\n",
      "NB: 0.784211 (0.058812)\n",
      "SVM: 0.685673 (0.096741)\n",
      "RF: 0.817836 (0.121520)\n",
      "RF: 0.526333 (0.128821)\n",
      "RF: 0.497369 (0.161725)\n",
      "RF: 0.310537 (0.202044)\n",
      "RF: 0.406025 (0.298289)\n",
      "RF: 0.503020 (0.154755)\n",
      "RF: 0.178559 (0.228975)\n",
      "RF: 0.588862 (0.254159)\n",
      "RF: 0.526333 (0.128821)\n",
      "RF: 0.497369 (0.161725)\n",
      "RF: 0.310537 (0.202044)\n",
      "RF: 0.455772 (0.253597)\n",
      "RF: 0.503020 (0.154755)\n",
      "RF: 0.178559 (0.228975)\n",
      "RF: 0.602556 (0.230203)\n"
     ]
    }
   ],
   "source": [
    "seed = 416\n",
    "# prepare models\n",
    "models = []\n",
    "models.append(('LR', LogisticRegression()))\n",
    "models.append(('LDA', LinearDiscriminantAnalysis()))\n",
    "models.append(('KNN', KNeighborsClassifier()))\n",
    "models.append(('CART', DecisionTreeClassifier()))\n",
    "models.append(('NB', GaussianNB()))\n",
    "models.append(('SVM', SVC()))\n",
    "#models.append(('KMeans',KMeans()))\n",
    "models.append(('RF', RandomForestClassifier()))\n",
    "# evaluate each model in turn\n",
    "results = []\n",
    "results2 = []\n",
    "results3 = []\n",
    "results4 = []\n",
    "names = []\n",
    "names2 = []\n",
    "names3 = []\n",
    "names4 = []\n",
    "scoring = 'accuracy'\n",
    "\n",
    "\n",
    "for name, model in models:\n",
    "\tkfold = model_selection.KFold(n_splits=10, random_state=seed)\n",
    "\tcv_results = model_selection.cross_val_score(model, Xtrain, Ytrain.values.ravel(), cv=kfold, scoring=scoring)\n",
    "\tresults.append(cv_results)\n",
    "\tnames.append(name)\n",
    "\tmsg = \"%s: %f (%f)\" % (name, cv_results.mean(), cv_results.std())\n",
    "\tprint(msg)\n",
    "\n",
    "for name2, model in models:\n",
    "\tkfold = model_selection.KFold(n_splits=10, random_state=seed)\n",
    "\tcv_results = model_selection.cross_val_score(model, Xtest, Ytest.values.ravel(), cv=kfold, scoring=scoring)\n",
    "\tresults2.append(cv_results)\n",
    "\tnames2.append(name2)\n",
    "\tmsg = \"%s: %f (%f)\" % (name2, cv_results.mean(), cv_results.std())\n",
    "\tprint(msg)\n",
    "\n",
    "from sklearn.metrics import cohen_kappa_score, make_scorer\n",
    "kappa_scorer = make_scorer(cohen_kappa_score)\n",
    "\n",
    "for name3, model in models:\n",
    "\tkfold = model_selection.KFold(n_splits=10, random_state=seed)\n",
    "\tcv_results = model_selection.cross_val_score(model, Xtest, Ytest.values.ravel(), cv=kfold, scoring=kappa_scorer)\n",
    "\tresults3.append(cv_results)\n",
    "\tnames3.append(name3)\n",
    "\tmsg = \"%s: %f (%f)\" % (name2, cv_results.mean(), cv_results.std())\n",
    "\tprint(msg)\n",
    "\n",
    "for name4, model in models:\n",
    "\tkfold = model_selection.KFold(n_splits=10, random_state=seed)\n",
    "\tcv_results = model_selection.cross_val_score(model, Xtest, Ytest.values.ravel(), cv=kfold, scoring=kappa_scorer)\n",
    "\tresults4.append(cv_results)\n",
    "\tnames4.append(name4)\n",
    "\tmsg = \"%s: %f (%f)\" % (name2, cv_results.mean(), cv_results.std())\n",
    "\tprint(msg)"
   ]
  },
  {
   "cell_type": "code",
   "execution_count": 101,
   "metadata": {},
   "outputs": [
    {
     "data": {
      "image/png": "[encoded data removed]",
      "text/plain": [
       "<Figure size 648x648 with 4 Axes>"
      ]
     },
     "metadata": {},
     "output_type": "display_data"
    }
   ],
   "source": [
    "fig = plt.figure(figsize = (9,9))\n",
    "fig.suptitle('Algorithm Comparison')\n",
    "ax = fig.add_subplot(221)\n",
    "plt.boxplot(results)\n",
    "ax.set_xticklabels(names2)\n",
    "plt.title(\"Training CV Accuracy\")\n",
    "ax = fig.add_subplot(223)\n",
    "plt.boxplot(results2)\n",
    "ax.set_xticklabels(names2)\n",
    "plt.title(\"Test CV Accuracy\")\n",
    "ax = fig.add_subplot(222)\n",
    "plt.boxplot(results3)\n",
    "ax.set_xticklabels(names2)\n",
    "plt.title('Training CV Kappa')\n",
    "ax = fig.add_subplot(224)\n",
    "plt.boxplot(results4)\n",
    "ax.set_xticklabels(names2)\n",
    "plt.title(\"Training CV Kappa\")\n",
    "plt.show()"
   ]
  },
  {
   "cell_type": "code",
   "execution_count": 102,
   "metadata": {},
   "outputs": [
    {
     "data": {
      "text/plain": [
       "RandomForestClassifier(bootstrap=True, class_weight=None, criterion='gini',\n",
       "            max_depth=None, max_features='auto', max_leaf_nodes=None,\n",
       "            min_impurity_decrease=0.0, min_impurity_split=None,\n",
       "            min_samples_leaf=1, min_samples_split=2,\n",
       "            min_weight_fraction_leaf=0.0, n_estimators=10000, n_jobs=1,\n",
       "            oob_score=False, random_state=416, verbose=0, warm_start=False)"
      ]
     },
     "execution_count": 102,
     "metadata": {},
     "output_type": "execute_result"
    }
   ],
   "source": [
    "forest = RandomForestClassifier(n_estimators = 10000, random_state = 416)\n",
    "forest.fit(Xtrain, Ytrain.values.ravel())"
   ]
  },
  {
   "cell_type": "code",
   "execution_count": 103,
   "metadata": {},
   "outputs": [
    {
     "data": {
      "image/png": "[encoded data removed]",
      "text/plain": [
       "<Figure size 432x288 with 1 Axes>"
      ]
     },
     "metadata": {},
     "output_type": "display_data"
    }
   ],
   "source": [
    "n_features = Xtrain.shape[1]\n",
    "\n",
    "\n",
    "plt.barh(range(n_features), forest.feature_importances_, align = 'center')\n",
    "plt.yticks(np.arange(n_features), list(Xtrain))\n",
    "plt.xlabel(\"Feature Importance\")\n",
    "plt.ylabel(\"Feature\")\n",
    "plt.ylim(-1, n_features)\n",
    "plt.show()"
   ]
  },
  {
   "cell_type": "code",
   "execution_count": 104,
   "metadata": {},
   "outputs": [],
   "source": [
    "prediction = forest.predict(Xtest)"
   ]
  },
  {
   "cell_type": "code",
   "execution_count": 105,
   "metadata": {},
   "outputs": [
    {
     "name": "stdout",
     "output_type": "stream",
     "text": [
      "Demo Baseline Accuracy:  0.8066298342541437\n"
     ]
    }
   ],
   "source": [
    "names = [\"High.School.GPA\",\"ACTSATMathPercentile\",\"ACTSATVerbalPercentile\",\"Sem1GPA\",\n",
    "'P111FirstGradeNUM',\"Cal1FirstGradeNUM\"]\n",
    "\n",
    "wk2['FinalCourseGradeAB_Rest1'] = np.where(wk2['FinalCourseGradeAB_Rest'] == \"AB\", 1,0)\n",
    "#X = wk2.drop('FinalCourseGradeAB_Rest', axis = 1)\n",
    "X = wk2[names]\n",
    "Y = wk2.filter(['FinalCourseGradeAB_Rest1'], axis = 1)\n",
    "Xtrain, Xtest, Ytrain, Ytest = train_test_split(\n",
    "    X,Y, test_size = 0.3, random_state = 416)\n",
    "demof = RandomForestClassifier(n_estimators = 10000, random_state = 416)\n",
    "demof.fit(Xtrain, Ytrain.values.ravel())\n",
    "pred = demof.predict(Xtest)\n",
    "DemoAcc = accuracy_score(Ytest, pred)\n",
    "print(\"Demo Baseline Accuracy: \", DemoAcc)"
   ]
  },
  {
   "cell_type": "code",
   "execution_count": 106,
   "metadata": {},
   "outputs": [
    {
     "name": "stdout",
     "output_type": "stream",
     "text": [
      "Accuracy:  0.8674033149171271\n"
     ]
    }
   ],
   "source": [
    "forestAcc = accuracy_score(Ytest, prediction)\n",
    "print(\"Accuracy: \",forestAcc)"
   ]
  },
  {
   "cell_type": "code",
   "execution_count": 107,
   "metadata": {},
   "outputs": [
    {
     "name": "stdout",
     "output_type": "stream",
     "text": [
      "Improvement over baseline:  0.3222123036811271\n"
     ]
    }
   ],
   "source": [
    "forestAboveBaseline = forestAcc - BLmeanAcc\n",
    "print(\"Improvement over baseline: \", forestAboveBaseline)"
   ]
  },
  {
   "cell_type": "code",
   "execution_count": 108,
   "metadata": {},
   "outputs": [
    {
     "name": "stdout",
     "output_type": "stream",
     "text": [
      "Improvement of Adding Class Variables:  0.06077348066298338\n"
     ]
    }
   ],
   "source": [
    "forestAboveDemoBaseline = forestAcc - DemoAcc\n",
    "print(\"Improvement of Adding Class Variables: \", forestAboveDemoBaseline)"
   ]
  },
  {
   "cell_type": "code",
   "execution_count": 109,
   "metadata": {
    "scrolled": true
   },
   "outputs": [
    {
     "name": "stdout",
     "output_type": "stream",
     "text": [
      "Cohen's Kappa:  0.7099358974358975\n"
     ]
    }
   ],
   "source": [
    "forestKappa = cohen_kappa_score(Ytest,prediction)\n",
    "print(\"Cohen's Kappa: \",forestKappa)"
   ]
  },
  {
   "cell_type": "code",
   "execution_count": null,
   "metadata": {},
   "outputs": [],
   "source": []
  }
 ],
 "metadata": {
  "kernelspec": {
   "display_name": "Python 3",
   "language": "python",
   "name": "python3"
  },
  "language_info": {
   "codemirror_mode": {
    "name": "ipython",
    "version": 3
   },
   "file_extension": ".py",
   "mimetype": "text/x-python",
   "name": "python",
   "nbconvert_exporter": "python",
   "pygments_lexer": "ipython3",
   "version": "3.6.6"
  }
 },
 "nbformat": 4,
 "nbformat_minor": 2
}
