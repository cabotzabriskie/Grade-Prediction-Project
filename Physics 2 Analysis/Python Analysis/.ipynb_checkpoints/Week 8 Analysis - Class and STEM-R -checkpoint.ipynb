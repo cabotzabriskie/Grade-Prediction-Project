{
 "cells": [
  {
   "cell_type": "markdown",
   "metadata": {},
   "source": [
    "## Importing Data and Cleaning"
   ]
  },
  {
   "cell_type": "code",
   "execution_count": 1,
   "metadata": {
    "scrolled": true
   },
   "outputs": [
    {
     "name": "stderr",
     "output_type": "stream",
     "text": [
      "C:\\Users\\Lynn\\Anaconda3\\lib\\site-packages\\IPython\\core\\interactiveshell.py:2698: DtypeWarning: Columns (31,77,79,80,83,85,86,138,146,157,158,159,160,161,162,163,164,165,166,167,168,169,170,171,172,173,174,175,176,177,178,179,180,181,182,183,184,185,186,187,188,189,190,191,192,193,194,195,196,197,198,199,200,201,202,203,204,205,206,207,208,209,210,211,212,213,214,215,216,217,218,219,220,221,222,226,227,266,268,269,270,271,272,273,274,275,276,277,278,279,280,281,282,283,285,286,287,288,289,290,291,292,293,294,295,296,297,298,299,300,311,313,316) have mixed types. Specify dtype option on import or set low_memory=False.\n",
      "  interactivity=interactivity, compiler=compiler, result=result)\n",
      "C:\\Users\\Lynn\\Anaconda3\\lib\\site-packages\\IPython\\core\\interactiveshell.py:2698: DtypeWarning: Columns (64,113,118,150,156,161,193,267,316,317,456,458,503,572,605,607,648,649,651,653,658,660,662,664,673,674,719,720,722,723,724,725,800,801,804,805,806,808,809,810,811,812,813,814,815,816,817,828,829,830,831,833,834,835,836,837,838,839,840,841,843,844,845,846,847,849,851,862,864,865,866,867,869,872,875,877,878,879,880,881,885,887,888,889,890,891,901,902,903,910,911,913,914,917,923,924,925,938,939,940,941,942,943,956,957,958,959,960,961,962,963,964,965,966,967,968,969,970,971,972,973,974,975,976,977,979,980,984,985,987,988,990,991,992,993,994,995,996,997,998,999,1001,1002,1003,1004,1005,1006,1007,1009,1012,1013,1015,1017,1021,1022,1027,1028,1029,1030,1146,1147,1148,1149,1150,1156,1191,1192,1193,1198,1205,1209,1210,1211,1212,1213,1214,1215,1216,1217,1218,1221,1223,1226,1227,1240,1241) have mixed types. Specify dtype option on import or set low_memory=False.\n",
      "  interactivity=interactivity, compiler=compiler, result=result)\n"
     ]
    }
   ],
   "source": [
    "import pandas as pd\n",
    "import numpy as np\n",
    "import matplotlib.pyplot as plt\n",
    "from sklearn import model_selection\n",
    "from sklearn.linear_model import LogisticRegression\n",
    "from sklearn.tree import DecisionTreeClassifier\n",
    "from sklearn.neighbors import KNeighborsClassifier\n",
    "from sklearn.discriminant_analysis import LinearDiscriminantAnalysis\n",
    "from sklearn.naive_bayes import GaussianNB\n",
    "from sklearn.svm import SVC\n",
    "from sklearn.cluster import KMeans\n",
    "from sklearn.ensemble import RandomForestClassifier\n",
    "\n",
    "wk8 = pd.read_csv('Intermediate-Data/Week_8_data.csv')\n",
    "stemr = pd.read_csv('Intermediate-Data/FUllyMergedDataset.csv')\n",
    "idkey = pd.read_csv('Intermediate-Data/ID Key-6-3-18.csv')\n",
    "idkey2 = pd.read_csv('Intermediate-Data/username to id.csv')\n",
    "idkey = idkey.rename(columns ={'ID':'AnonID'})\n",
    "idkey2 = idkey2.rename(columns ={'Student Id':'AnonID'})\n"
   ]
  },
  {
   "cell_type": "code",
   "execution_count": 2,
   "metadata": {},
   "outputs": [
    {
     "data": {
      "text/plain": [
       "1282"
      ]
     },
     "execution_count": 2,
     "metadata": {},
     "output_type": "execute_result"
    }
   ],
   "source": [
    "len(wk8)"
   ]
  },
  {
   "cell_type": "code",
   "execution_count": 4,
   "metadata": {},
   "outputs": [],
   "source": [
    "mathgrdstr = ['M126FirstGrade2','M128FirstGrade2','M129FirstGrade2','M153FirstGrade2','M154FirstGrade2',\n",
    "             'M155FirstGrade2','M156FirstGrade2']\n",
    "mathstr = ['M126ClassStr','M128ClassStr','M129ClassStr','M153ClassStr','M154ClassStr',\n",
    "             'M155ClassStr','M156ClassStr']\n"
   ]
  },
  {
   "cell_type": "code",
   "execution_count": 6,
   "metadata": {},
   "outputs": [],
   "source": [
    "\n",
    "for n in range(0,len(mathstr)):\n",
    "    stemr[mathgrdstr[n]] = stemr[mathstr[n]].astype(str).str[0]\n"
   ]
  },
  {
   "cell_type": "code",
   "execution_count": 7,
   "metadata": {},
   "outputs": [],
   "source": [
    "stemr['P111FirstGrade'] = stemr['P111FirstGrade'].astype(str).str[0]\n",
    "stemr['Cal1FirstGrade'] = stemr['Cal1FirstGrade'].astype(str).str[0]"
   ]
  },
  {
   "cell_type": "code",
   "execution_count": 8,
   "metadata": {},
   "outputs": [],
   "source": [
    "stemr2 = stemr[[    'AnonID',\n",
    "                    'High.School.GPA',\n",
    "                    'ACTSATMathPercentile',\n",
    "                    'ACTSATVerbalPercentile',\n",
    "                    'Sem1GPA','P111FirstGrade','Cal1FirstGrade','P112FirstGrade'   ]]\n"
   ]
  },
  {
   "cell_type": "code",
   "execution_count": 9,
   "metadata": {},
   "outputs": [],
   "source": [
    "stemr3 = pd.merge(stemr2,idkey2, on = 'AnonID')"
   ]
  },
  {
   "cell_type": "code",
   "execution_count": 10,
   "metadata": {},
   "outputs": [],
   "source": [
    "data = pd.merge(wk8, stemr3, on = 'Username')\n",
    "data = pd.merge(data, survey, on = 'Username')\n"
   ]
  },
  {
   "cell_type": "code",
   "execution_count": 11,
   "metadata": {},
   "outputs": [],
   "source": [
    "data = data[pd.notnull(data['P112FirstGrade'])]\n",
    "data['P112FirstGrade1'] = data.loc[:,'P112FirstGrade'].astype(str).str[0]\n",
    "\n",
    "data[\"FinalCourseGradeAB_Rest1\"] = np.where(data['P112FirstGrade1'] == \"A\",1,0)\n",
    "data[\"FinalCourseGradeAB_Rest1\"] = np.where(data['P112FirstGrade1'] == \"B\",1,data['FinalCourseGradeAB_Rest1'])\n",
    "\n",
    "data['Cal1FirstGradeNUM'] = 0\n",
    "\n",
    "data['Cal1FirstGradeNUM'] = np.where(data['Cal1FirstGrade'] == \"A\",4,0)\n",
    "data['Cal1FirstGradeNUM'] = np.where(data['Cal1FirstGrade'] == \"B\",3,data['Cal1FirstGradeNUM'])\n",
    "data['Cal1FirstGradeNUM'] = np.where(data['Cal1FirstGrade'] == \"C\",2,data['Cal1FirstGradeNUM'])\n",
    "data['Cal1FirstGradeNUM'] = np.where(data['Cal1FirstGrade'] == \"D\",1,data['Cal1FirstGradeNUM'])\n",
    "data['Cal1FirstGradeNUM'] = np.where(data['Cal1FirstGrade'] == \"W\",-1,data['Cal1FirstGradeNUM'])\n",
    "data['Cal1FirstGradeNUM'] = np.where(data['Cal1FirstGrade'] == \"n\",data['Sem1GPA'].round(1),data['Cal1FirstGradeNUM'])\n",
    "data['Cal1FirstGradeNUM'] = np.where(data['Cal1FirstGrade'] == \"P\",data['Sem1GPA'].round(1),data['Cal1FirstGradeNUM'])\n",
    "\n",
    "data['P111FirstGradeNUM'] = 0\n",
    "\n",
    "data['P111FirstGradeNUM'] = np.where(data['P111FirstGrade'] == \"A\",4,0)\n",
    "data['P111FirstGradeNUM'] = np.where(data['P111FirstGrade'] == \"B\",3,data['P111FirstGradeNUM'])\n",
    "data['P111FirstGradeNUM'] = np.where(data['P111FirstGrade'] == \"C\",2,data['P111FirstGradeNUM'])\n",
    "data['P111FirstGradeNUM'] = np.where(data['P111FirstGrade'] == \"D\",1,data['P111FirstGradeNUM'])\n",
    "data['P111FirstGradeNUM'] = np.where(data['P111FirstGrade'] == \"W\",-1,data['P111FirstGradeNUM'])\n",
    "data['P111FirstGradeNUM'] = np.where(data['P111FirstGrade'] == \"n\",data['Sem1GPA'].round(1),data['P111FirstGradeNUM'])\n",
    "data['P111FirstGradeNUM'] = np.where(data['P111FirstGrade'] == \"P\",data['Sem1GPA'].round(1),data['P111FirstGradeNUM'])"
   ]
  },
  {
   "cell_type": "code",
   "execution_count": 12,
   "metadata": {},
   "outputs": [],
   "source": [
    "data['TakeCSEM'] = np.where(data['TakeCSEM'] == \"Y\", 1,0)"
   ]
  },
  {
   "cell_type": "code",
   "execution_count": 13,
   "metadata": {},
   "outputs": [],
   "source": [
    "data['High.School.GPA'] = pd.to_numeric(data['High.School.GPA'], errors = \"coerce\")\n",
    "data['TakeCSEM'] = pd.to_numeric(data['TakeCSEM'], errors = \"coerce\")\n",
    "data2 = data[pd.notnull(data['High.School.GPA'])]\n",
    "data2 = data2[pd.notnull(data2['ACTSATMathPercentile'])]\n",
    "data2 = data2[pd.notnull(data2['ACTSATVerbalPercentile'])]\n",
    "data2 = data2[pd.notnull(data2['Sem1GPA'])]"
   ]
  },
  {
   "cell_type": "code",
   "execution_count": 14,
   "metadata": {},
   "outputs": [
    {
     "data": {
      "text/plain": [
       "['LabQ1',\n",
       " 'Lab2',\n",
       " 'LabQ2',\n",
       " 'Lab3',\n",
       " 'Lab4',\n",
       " 'Lab5',\n",
       " 'LabQ5',\n",
       " 'MCTest1',\n",
       " 'ORTest1',\n",
       " 'CTest1',\n",
       " 'MCTest2',\n",
       " 'ORTest2',\n",
       " 'CTest2',\n",
       " 'SBonus1',\n",
       " 'SBonus2',\n",
       " 'SBonus3',\n",
       " 'SBonus4',\n",
       " 'SBonus5',\n",
       " 'SBonus6',\n",
       " 'FHwk2',\n",
       " 'FHwk5',\n",
       " 'FHwk6',\n",
       " 'LecQ1',\n",
       " 'LecQ5',\n",
       " 'LecQ9',\n",
       " 'LecQ14',\n",
       " 'Lab2Miss',\n",
       " 'Lab3Miss',\n",
       " 'Lab4Miss',\n",
       " 'Lab5Miss',\n",
       " 'DidFHwk5',\n",
       " 'DidFHwk6',\n",
       " 'Lec1Miss',\n",
       " 'Lec5Miss',\n",
       " 'Lec9Miss',\n",
       " 'Lec14Miss']"
      ]
     },
     "execution_count": 14,
     "metadata": {},
     "output_type": "execute_result"
    }
   ],
   "source": [
    "data2.columns[data2.isnull().any()].tolist()"
   ]
  },
  {
   "cell_type": "code",
   "execution_count": 15,
   "metadata": {},
   "outputs": [],
   "source": [
    "wk8 = data2"
   ]
  },
  {
   "cell_type": "code",
   "execution_count": 16,
   "metadata": {},
   "outputs": [],
   "source": [
    "wk8 = pd.DataFrame(wk8)\n"
   ]
  },
  {
   "cell_type": "code",
   "execution_count": 17,
   "metadata": {},
   "outputs": [
    {
     "data": {
      "text/plain": [
       "['LabQ1',\n",
       " 'Lab2',\n",
       " 'LabQ2',\n",
       " 'Lab3',\n",
       " 'Lab4',\n",
       " 'Lab5',\n",
       " 'LabQ5',\n",
       " 'MCTest1',\n",
       " 'ORTest1',\n",
       " 'CTest1',\n",
       " 'MCTest2',\n",
       " 'ORTest2',\n",
       " 'CTest2',\n",
       " 'SBonus1',\n",
       " 'SBonus2',\n",
       " 'SBonus3',\n",
       " 'SBonus4',\n",
       " 'SBonus5',\n",
       " 'SBonus6',\n",
       " 'FHwk2',\n",
       " 'FHwk5',\n",
       " 'FHwk6',\n",
       " 'LecQ1',\n",
       " 'LecQ5',\n",
       " 'LecQ9',\n",
       " 'LecQ14',\n",
       " 'Lab2Miss',\n",
       " 'Lab3Miss',\n",
       " 'Lab4Miss',\n",
       " 'Lab5Miss',\n",
       " 'DidFHwk5',\n",
       " 'DidFHwk6',\n",
       " 'Lec1Miss',\n",
       " 'Lec5Miss',\n",
       " 'Lec9Miss',\n",
       " 'Lec14Miss']"
      ]
     },
     "execution_count": 17,
     "metadata": {},
     "output_type": "execute_result"
    }
   ],
   "source": [
    "wk8.columns[wk8.isnull().any()].tolist()"
   ]
  },
  {
   "cell_type": "code",
   "execution_count": 19,
   "metadata": {},
   "outputs": [
    {
     "data": {
      "text/html": [
       "<div>\n",
       "<style>\n",
       "    .dataframe thead tr:only-child th {\n",
       "        text-align: right;\n",
       "    }\n",
       "\n",
       "    .dataframe thead th {\n",
       "        text-align: left;\n",
       "    }\n",
       "\n",
       "    .dataframe tbody tr th {\n",
       "        vertical-align: top;\n",
       "    }\n",
       "</style>\n",
       "<table border=\"1\" class=\"dataframe\">\n",
       "  <thead>\n",
       "    <tr style=\"text-align: right;\">\n",
       "      <th>col_0</th>\n",
       "      <th>count</th>\n",
       "    </tr>\n",
       "    <tr>\n",
       "      <th>LecQ1</th>\n",
       "      <th></th>\n",
       "    </tr>\n",
       "  </thead>\n",
       "  <tbody>\n",
       "    <tr>\n",
       "      <th>0.0</th>\n",
       "      <td>35</td>\n",
       "    </tr>\n",
       "    <tr>\n",
       "      <th>2.0</th>\n",
       "      <td>293</td>\n",
       "    </tr>\n",
       "  </tbody>\n",
       "</table>\n",
       "</div>"
      ],
      "text/plain": [
       "col_0  count\n",
       "LecQ1       \n",
       "0.0       35\n",
       "2.0      293"
      ]
     },
     "execution_count": 19,
     "metadata": {},
     "output_type": "execute_result"
    }
   ],
   "source": [
    "pd.crosstab(index = wk8['LecQ1'], columns = \"count\")"
   ]
  },
  {
   "cell_type": "markdown",
   "metadata": {},
   "source": [
    "## Making New Columns For Analysis"
   ]
  },
  {
   "cell_type": "code",
   "execution_count": 20,
   "metadata": {},
   "outputs": [],
   "source": [
    "import re\n",
    "\n",
    "regLecMis = re.compile(\".*(Lec)\\d(Miss).*\")\n",
    "lecmis = [m.group(0) for l in list(wk8) for m in[regLecMis.search(l)] if m]\n",
    "regSB = re.compile(\".*(SBonus)\\d.*\")\n",
    "SBonus = [m.group(0) for l in list(wk8) for m in[regSB.search(l)] if m]\n",
    "wk8['BonusPoints'] = wk8[SBonus].sum(axis = 1, skipna = True)"
   ]
  },
  {
   "cell_type": "code",
   "execution_count": 21,
   "metadata": {},
   "outputs": [],
   "source": [
    "wk8['MissedLectures'] = wk8[lecmis].sum(axis = 1, skipna = True)\n",
    "#Sum over the missed lectures"
   ]
  },
  {
   "cell_type": "code",
   "execution_count": 22,
   "metadata": {},
   "outputs": [],
   "source": [
    "wk8['MissedAnyLectures'] = np.where(wk8['MissedLectures'] > 0, 1,0)\n",
    "#wk8['TakeCSEM']"
   ]
  },
  {
   "cell_type": "code",
   "execution_count": 23,
   "metadata": {},
   "outputs": [],
   "source": [
    "\n",
    "\n",
    "regex = re.compile(\".*(LecQ).\")\n",
    "regLabQ = re.compile(\".*(LabQ).\")\n",
    "regLab1 = re.compile(\".*(Lab)\\d.*\")\n",
    "regLab2 = re.compile(\"^\\w{4,4}$\")\n",
    "regHw = re.compile(\".*(FHwk).\")\n",
    "#Define what we want out of the string\n",
    "\n",
    "lecQs = [m.group(0) for l in list(wk8) for m in[regex.search(l)] if m]\n",
    "#Creates a list \"lecQs\" for all of the instances of Lecture Quiz http://www.cademuir.eu/blog/2011/10/20/python-searching-for-a-string-within-a-list-list-comprehension/\n",
    "labQs = [m.group(0) for l in list(wk8) for m in[regLabQ.search(l)] if m]\n",
    "labs = [m.group(0) for l in list(wk8) for m in[regLab1.search(l)] if m]\n",
    "labs = [m.group(0) for l in list(labs) for m in[regLab2.search(l)] if m]\n",
    "Fhwks = [m.group(0) for l in list(wk8) for m in[regHw.search(l)] if m]"
   ]
  },
  {
   "cell_type": "code",
   "execution_count": 24,
   "metadata": {},
   "outputs": [],
   "source": [
    "wk8[lecQs] = np.where(wk8[lecQs] < 0, 0,wk8[lecQs])\n",
    "wk8['LecQGrade'] = wk8[lecQs].mean(axis = 1, skipna = True)\n",
    "#LecQAve\n",
    "wk8['LabQGrade'] = wk8[labQs].mean(axis = 1, skipna = True)\n",
    "wk8['HWGrade'] = wk8[Fhwks].mean(axis = 1, skipna = True)"
   ]
  },
  {
   "cell_type": "code",
   "execution_count": 25,
   "metadata": {},
   "outputs": [],
   "source": [
    "wk8[labs] = np.where(wk8[labs] < 0, 0,wk8[labs])"
   ]
  },
  {
   "cell_type": "code",
   "execution_count": 27,
   "metadata": {},
   "outputs": [
    {
     "data": {
      "text/plain": [
       "['Unnamed: 0',\n",
       " 'Username',\n",
       " 'LectureSection',\n",
       " 'LabSection',\n",
       " 'CourseAveNoDrop',\n",
       " 'TstAve',\n",
       " 'Test1',\n",
       " 'Test2',\n",
       " 'Lab1',\n",
       " 'LabQ1',\n",
       " 'CSEMPretestPercent',\n",
       " 'Lab2',\n",
       " 'LabQ2',\n",
       " 'Lab3',\n",
       " 'LabQ3',\n",
       " 'Lab4',\n",
       " 'LabQ4',\n",
       " 'Lab5',\n",
       " 'LabQ5',\n",
       " 'Lab6',\n",
       " 'LabQ6',\n",
       " 'Lab7',\n",
       " 'LabQ7',\n",
       " 'Lab8',\n",
       " 'LabQ8',\n",
       " 'MCTest1',\n",
       " 'ORTest1',\n",
       " 'CTest1',\n",
       " 'MCTest2',\n",
       " 'ORTest2',\n",
       " 'CTest2',\n",
       " 'SBonus1',\n",
       " 'SBonus2',\n",
       " 'SBonus3',\n",
       " 'SBonus4',\n",
       " 'SBonus5',\n",
       " 'SBonus6',\n",
       " 'FinalCourseGrade',\n",
       " 'FHwk1',\n",
       " 'FHwk2',\n",
       " 'FHwk3',\n",
       " 'FHwk5',\n",
       " 'FHwk6',\n",
       " 'FHwk8',\n",
       " 'LecQ1',\n",
       " 'LecQ2',\n",
       " 'LecQ3',\n",
       " 'LecQ4',\n",
       " 'LecQ5',\n",
       " 'LecQ6',\n",
       " 'LecQ7',\n",
       " 'LecQ8',\n",
       " 'LecQ9',\n",
       " 'LecQ10',\n",
       " 'LecQ11',\n",
       " 'LecQ12',\n",
       " 'LecQ13',\n",
       " 'LecQ14',\n",
       " 'LecQ15',\n",
       " 'LecQ16',\n",
       " 'LecQ17',\n",
       " 'LecQ18',\n",
       " 'LecQ19',\n",
       " 'LecQ20',\n",
       " 'LecQ21',\n",
       " 'LecQ22',\n",
       " 'LecQ23',\n",
       " 'LecQ24',\n",
       " 'LabDay',\n",
       " 'LabTime',\n",
       " 'FinalCourseGrade2',\n",
       " 'FinalCourseGradePF',\n",
       " 'FinalCourseGradeAB_C_DF',\n",
       " 'FinalCourseGradeAB_Rest',\n",
       " 'TakeCSEM',\n",
       " 'Lab1Miss',\n",
       " 'Lab2Miss',\n",
       " 'Lab3Miss',\n",
       " 'Lab4Miss',\n",
       " 'Lab5Miss',\n",
       " 'Lab6Miss',\n",
       " 'Lab7Miss',\n",
       " 'Lab8Miss',\n",
       " 'DidFHwk1',\n",
       " 'DidFHwk2',\n",
       " 'DidFHwk3',\n",
       " 'DidFHwk5',\n",
       " 'DidFHwk6',\n",
       " 'DidFHwk8',\n",
       " 'Lec1Miss',\n",
       " 'Lec2Miss',\n",
       " 'Lec3Miss',\n",
       " 'Lec4Miss',\n",
       " 'Lec5Miss',\n",
       " 'Lec6Miss',\n",
       " 'Lec7Miss',\n",
       " 'Lec8Miss',\n",
       " 'Lec9Miss',\n",
       " 'Lec10Miss',\n",
       " 'Lec11Miss',\n",
       " 'Lec12Miss',\n",
       " 'Lec13Miss',\n",
       " 'Lec14Miss',\n",
       " 'Lec15Miss',\n",
       " 'Lec16Miss',\n",
       " 'Lec17Miss',\n",
       " 'Lec18Miss',\n",
       " 'Lec19Miss',\n",
       " 'Lec20Miss',\n",
       " 'Lec21Miss',\n",
       " 'Lec22Miss',\n",
       " 'Lec23Miss',\n",
       " 'AnonID',\n",
       " 'High.School.GPA',\n",
       " 'ACTSATMathPercentile',\n",
       " 'ACTSATVerbalPercentile',\n",
       " 'Sem1GPA',\n",
       " 'P111FirstGrade',\n",
       " 'Cal1FirstGrade',\n",
       " 'P112FirstGrade',\n",
       " 'IsFall',\n",
       " 'IsHonors',\n",
       " 'Classification',\n",
       " 'TAexperience',\n",
       " 'P112FirstGrade1',\n",
       " 'FinalCourseGradeAB_Rest1',\n",
       " 'Cal1FirstGradeNUM',\n",
       " 'P111FirstGradeNUM',\n",
       " 'BonusPoints',\n",
       " 'MissedLectures',\n",
       " 'MissedAnyLectures',\n",
       " 'LecQGrade',\n",
       " 'LabQGrade',\n",
       " 'HWGrade']"
      ]
     },
     "execution_count": 27,
     "metadata": {},
     "output_type": "execute_result"
    }
   ],
   "source": [
    "list(wk8)"
   ]
  },
  {
   "cell_type": "markdown",
   "metadata": {},
   "source": [
    "# Optimal Model Class Dataset"
   ]
  },
  {
   "cell_type": "code",
   "execution_count": 28,
   "metadata": {},
   "outputs": [],
   "source": [
    "from sklearn.metrics import accuracy_score\n",
    "from sklearn.metrics import cohen_kappa_score\n",
    "from sklearn.model_selection import train_test_split\n",
    "\n",
    "names2 = [ 'LecQGrade', 'LabQGrade', 'HWGrade', 'MissedLectures', 'MissedAnyLectures', 'BonusPoints','Test1','Test2']\n",
    "\n",
    "X = wk8[names2]\n",
    "Y = wk8.filter(['FinalCourseGradeAB_Rest1'], axis = 1)\n",
    "Xtrain, Xtest, Ytrain, Ytest = train_test_split(\n",
    "    X,Y, test_size = 0.3, random_state = 416)"
   ]
  },
  {
   "cell_type": "code",
   "execution_count": 29,
   "metadata": {},
   "outputs": [
    {
     "data": {
      "text/plain": [
       "['FinalCourseGradeAB_Rest1']"
      ]
     },
     "execution_count": 29,
     "metadata": {},
     "output_type": "execute_result"
    }
   ],
   "source": [
    "list(Y)"
   ]
  },
  {
   "cell_type": "code",
   "execution_count": 30,
   "metadata": {},
   "outputs": [
    {
     "data": {
      "text/plain": [
       "RandomForestClassifier(bootstrap=True, class_weight=None, criterion='gini',\n",
       "            max_depth=None, max_features='auto', max_leaf_nodes=None,\n",
       "            min_impurity_decrease=0.0, min_impurity_split=None,\n",
       "            min_samples_leaf=1, min_samples_split=2,\n",
       "            min_weight_fraction_leaf=0.0, n_estimators=10000, n_jobs=1,\n",
       "            oob_score=False, random_state=416, verbose=0, warm_start=False)"
      ]
     },
     "execution_count": 30,
     "metadata": {},
     "output_type": "execute_result"
    }
   ],
   "source": [
    "forest = RandomForestClassifier(n_estimators = 10000, random_state = 416)\n",
    "forest.fit(Xtrain, Ytrain.values.ravel())"
   ]
  },
  {
   "cell_type": "code",
   "execution_count": 31,
   "metadata": {},
   "outputs": [
    {
     "data": {
      "image/png": "[encoded data removed]",
      "text/plain": [
       "<matplotlib.figure.Figure at 0x27a9d028630>"
      ]
     },
     "metadata": {},
     "output_type": "display_data"
    }
   ],
   "source": [
    "n_features = Xtrain.shape[1]\n",
    "\n",
    "plt.figure(figsize=(5,11))\n",
    "plt.barh(range(n_features), forest.feature_importances_, align = 'center')\n",
    "plt.yticks(np.arange(n_features), list(Xtrain))\n",
    "plt.xlabel(\"Feature Importance\")\n",
    "plt.ylabel(\"Feature\")\n",
    "plt.ylim(-1, n_features)\n",
    "plt.show()"
   ]
  },
  {
   "cell_type": "code",
   "execution_count": 32,
   "metadata": {},
   "outputs": [],
   "source": [
    "prediction = forest.predict(Xtest)"
   ]
  },
  {
   "cell_type": "code",
   "execution_count": 33,
   "metadata": {},
   "outputs": [],
   "source": [
    "BLmeanAcc = 0.545191011236"
   ]
  },
  {
   "cell_type": "code",
   "execution_count": 34,
   "metadata": {},
   "outputs": [
    {
     "name": "stdout",
     "output_type": "stream",
     "text": [
      "Accuracy:  0.895027624309\n"
     ]
    }
   ],
   "source": [
    "forestAcc = accuracy_score(Ytest, prediction)\n",
    "print(\"Accuracy: \",forestAcc)"
   ]
  },
  {
   "cell_type": "code",
   "execution_count": 35,
   "metadata": {},
   "outputs": [
    {
     "name": "stdout",
     "output_type": "stream",
     "text": [
      "Improvement over baseline:  0.349836613073\n"
     ]
    }
   ],
   "source": [
    "forestAboveBaseline = forestAcc - BLmeanAcc\n",
    "print(\"Improvement over baseline: \", forestAboveBaseline)"
   ]
  },
  {
   "cell_type": "code",
   "execution_count": 36,
   "metadata": {},
   "outputs": [
    {
     "name": "stdout",
     "output_type": "stream",
     "text": [
      "Cohen's Kappa:  0.778685887123\n"
     ]
    }
   ],
   "source": [
    "forestKappa = cohen_kappa_score(Ytest,prediction)\n",
    "print(\"Cohen's Kappa: \",forestKappa)"
   ]
  },
  {
   "cell_type": "markdown",
   "metadata": {},
   "source": [
    "### Remove MissAnyLectures *** Optimal"
   ]
  },
  {
   "cell_type": "code",
   "execution_count": 37,
   "metadata": {},
   "outputs": [],
   "source": [
    "from sklearn.metrics import accuracy_score\n",
    "from sklearn.metrics import cohen_kappa_score\n",
    "from sklearn.model_selection import train_test_split\n",
    "\n",
    "names2 = [ 'LecQGrade', 'LabQGrade', 'HWGrade', 'MissedLectures', 'BonusPoints','Test1','Test2']\n",
    "\n",
    "X = wk8[names2]\n",
    "Y = wk8.filter(['FinalCourseGradeAB_Rest1'], axis = 1)\n",
    "Xtrain, Xtest, Ytrain, Ytest = train_test_split(\n",
    "    X,Y, test_size = 0.3, random_state = 416)"
   ]
  },
  {
   "cell_type": "code",
   "execution_count": 38,
   "metadata": {},
   "outputs": [
    {
     "data": {
      "text/plain": [
       "['FinalCourseGradeAB_Rest1']"
      ]
     },
     "execution_count": 38,
     "metadata": {},
     "output_type": "execute_result"
    }
   ],
   "source": [
    "list(Y)"
   ]
  },
  {
   "cell_type": "code",
   "execution_count": 39,
   "metadata": {},
   "outputs": [
    {
     "data": {
      "text/plain": [
       "RandomForestClassifier(bootstrap=True, class_weight=None, criterion='gini',\n",
       "            max_depth=None, max_features='auto', max_leaf_nodes=None,\n",
       "            min_impurity_decrease=0.0, min_impurity_split=None,\n",
       "            min_samples_leaf=1, min_samples_split=2,\n",
       "            min_weight_fraction_leaf=0.0, n_estimators=10000, n_jobs=1,\n",
       "            oob_score=False, random_state=416, verbose=0, warm_start=False)"
      ]
     },
     "execution_count": 39,
     "metadata": {},
     "output_type": "execute_result"
    }
   ],
   "source": [
    "forest = RandomForestClassifier(n_estimators = 10000, random_state = 416)\n",
    "forest.fit(Xtrain, Ytrain.values.ravel())"
   ]
  },
  {
   "cell_type": "code",
   "execution_count": 40,
   "metadata": {},
   "outputs": [
    {
     "data": {
      "image/png": "[encoded data removed]",
      "text/plain": [
       "<matplotlib.figure.Figure at 0x27a955d4630>"
      ]
     },
     "metadata": {},
     "output_type": "display_data"
    }
   ],
   "source": [
    "n_features = Xtrain.shape[1]\n",
    "\n",
    "plt.figure(figsize=(5,11))\n",
    "plt.barh(range(n_features), forest.feature_importances_, align = 'center')\n",
    "plt.yticks(np.arange(n_features), list(Xtrain))\n",
    "plt.xlabel(\"Feature Importance\")\n",
    "plt.ylabel(\"Feature\")\n",
    "plt.ylim(-1, n_features)\n",
    "plt.show()"
   ]
  },
  {
   "cell_type": "code",
   "execution_count": 41,
   "metadata": {},
   "outputs": [],
   "source": [
    "prediction = forest.predict(Xtest)"
   ]
  },
  {
   "cell_type": "code",
   "execution_count": 42,
   "metadata": {},
   "outputs": [],
   "source": [
    "BLmeanAcc = 0.545191011236"
   ]
  },
  {
   "cell_type": "code",
   "execution_count": 43,
   "metadata": {},
   "outputs": [
    {
     "name": "stdout",
     "output_type": "stream",
     "text": [
      "Accuracy:  0.895027624309\n"
     ]
    }
   ],
   "source": [
    "forestAcc = accuracy_score(Ytest, prediction)\n",
    "print(\"Accuracy: \",forestAcc)"
   ]
  },
  {
   "cell_type": "code",
   "execution_count": 44,
   "metadata": {},
   "outputs": [
    {
     "name": "stdout",
     "output_type": "stream",
     "text": [
      "Improvement over baseline:  0.349836613073\n"
     ]
    }
   ],
   "source": [
    "forestAboveBaseline = forestAcc - BLmeanAcc\n",
    "print(\"Improvement over baseline: \", forestAboveBaseline)"
   ]
  },
  {
   "cell_type": "code",
   "execution_count": 45,
   "metadata": {},
   "outputs": [
    {
     "name": "stdout",
     "output_type": "stream",
     "text": [
      "Cohen's Kappa:  0.778685887123\n"
     ]
    }
   ],
   "source": [
    "forestKappa = cohen_kappa_score(Ytest,prediction)\n",
    "print(\"Cohen's Kappa: \",forestKappa)"
   ]
  },
  {
   "cell_type": "markdown",
   "metadata": {},
   "source": [
    "### Remove Missed Lectures *** Optimal"
   ]
  },
  {
   "cell_type": "code",
   "execution_count": 46,
   "metadata": {},
   "outputs": [],
   "source": [
    "from sklearn.metrics import accuracy_score\n",
    "from sklearn.metrics import cohen_kappa_score\n",
    "from sklearn.model_selection import train_test_split\n",
    "\n",
    "names2 = [ 'LecQGrade', 'LabQGrade', 'HWGrade', 'BonusPoints','Test1','Test2']\n",
    "\n",
    "X = wk8[names2]\n",
    "Y = wk8.filter(['FinalCourseGradeAB_Rest1'], axis = 1)\n",
    "Xtrain, Xtest, Ytrain, Ytest = train_test_split(\n",
    "    X,Y, test_size = 0.3, random_state = 416)"
   ]
  },
  {
   "cell_type": "code",
   "execution_count": 47,
   "metadata": {},
   "outputs": [
    {
     "data": {
      "text/plain": [
       "['FinalCourseGradeAB_Rest1']"
      ]
     },
     "execution_count": 47,
     "metadata": {},
     "output_type": "execute_result"
    }
   ],
   "source": [
    "list(Y)"
   ]
  },
  {
   "cell_type": "code",
   "execution_count": 48,
   "metadata": {},
   "outputs": [
    {
     "data": {
      "text/plain": [
       "RandomForestClassifier(bootstrap=True, class_weight=None, criterion='gini',\n",
       "            max_depth=None, max_features='auto', max_leaf_nodes=None,\n",
       "            min_impurity_decrease=0.0, min_impurity_split=None,\n",
       "            min_samples_leaf=1, min_samples_split=2,\n",
       "            min_weight_fraction_leaf=0.0, n_estimators=10000, n_jobs=1,\n",
       "            oob_score=False, random_state=416, verbose=0, warm_start=False)"
      ]
     },
     "execution_count": 48,
     "metadata": {},
     "output_type": "execute_result"
    }
   ],
   "source": [
    "forest = RandomForestClassifier(n_estimators = 10000, random_state = 416)\n",
    "forest.fit(Xtrain, Ytrain.values.ravel())"
   ]
  },
  {
   "cell_type": "code",
   "execution_count": 49,
   "metadata": {},
   "outputs": [
    {
     "data": {
      "image/png": "[encoded data removed]",
      "text/plain": [
       "<matplotlib.figure.Figure at 0x27a9d023470>"
      ]
     },
     "metadata": {},
     "output_type": "display_data"
    }
   ],
   "source": [
    "n_features = Xtrain.shape[1]\n",
    "\n",
    "plt.figure(figsize=(5,11))\n",
    "plt.barh(range(n_features), forest.feature_importances_, align = 'center')\n",
    "plt.yticks(np.arange(n_features), list(Xtrain))\n",
    "plt.xlabel(\"Feature Importance\")\n",
    "plt.ylabel(\"Feature\")\n",
    "plt.ylim(-1, n_features)\n",
    "plt.show()"
   ]
  },
  {
   "cell_type": "code",
   "execution_count": 50,
   "metadata": {},
   "outputs": [],
   "source": [
    "prediction = forest.predict(Xtest)"
   ]
  },
  {
   "cell_type": "code",
   "execution_count": 51,
   "metadata": {},
   "outputs": [],
   "source": [
    "BLmeanAcc = 0.545191011236"
   ]
  },
  {
   "cell_type": "code",
   "execution_count": 52,
   "metadata": {},
   "outputs": [
    {
     "name": "stdout",
     "output_type": "stream",
     "text": [
      "Accuracy:  0.883977900552\n"
     ]
    }
   ],
   "source": [
    "forestAcc = accuracy_score(Ytest, prediction)\n",
    "print(\"Accuracy: \",forestAcc)"
   ]
  },
  {
   "cell_type": "code",
   "execution_count": 53,
   "metadata": {},
   "outputs": [
    {
     "name": "stdout",
     "output_type": "stream",
     "text": [
      "Improvement over baseline:  0.338786889316\n"
     ]
    }
   ],
   "source": [
    "forestAboveBaseline = forestAcc - BLmeanAcc\n",
    "print(\"Improvement over baseline: \", forestAboveBaseline)"
   ]
  },
  {
   "cell_type": "code",
   "execution_count": 54,
   "metadata": {},
   "outputs": [
    {
     "name": "stdout",
     "output_type": "stream",
     "text": [
      "Cohen's Kappa:  0.755389664715\n"
     ]
    }
   ],
   "source": [
    "forestKappa = cohen_kappa_score(Ytest,prediction)\n",
    "print(\"Cohen's Kappa: \",forestKappa)"
   ]
  },
  {
   "cell_type": "markdown",
   "metadata": {},
   "source": [
    "### Cut at 0.01"
   ]
  },
  {
   "cell_type": "code",
   "execution_count": 55,
   "metadata": {},
   "outputs": [],
   "source": [
    "from sklearn.metrics import accuracy_score\n",
    "from sklearn.metrics import cohen_kappa_score\n",
    "from sklearn.model_selection import train_test_split\n",
    "\n",
    "names2 = [ 'LecQGrade', 'LabQGrade', 'HWGrade','Test1','Test2']\n",
    "\n",
    "X = wk8[names2]\n",
    "Y = wk8.filter(['FinalCourseGradeAB_Rest1'], axis = 1)\n",
    "Xtrain, Xtest, Ytrain, Ytest = train_test_split(\n",
    "    X,Y, test_size = 0.3, random_state = 416)"
   ]
  },
  {
   "cell_type": "code",
   "execution_count": 56,
   "metadata": {},
   "outputs": [
    {
     "data": {
      "text/plain": [
       "['FinalCourseGradeAB_Rest1']"
      ]
     },
     "execution_count": 56,
     "metadata": {},
     "output_type": "execute_result"
    }
   ],
   "source": [
    "list(Y)"
   ]
  },
  {
   "cell_type": "code",
   "execution_count": 57,
   "metadata": {},
   "outputs": [
    {
     "data": {
      "text/plain": [
       "RandomForestClassifier(bootstrap=True, class_weight=None, criterion='gini',\n",
       "            max_depth=None, max_features='auto', max_leaf_nodes=None,\n",
       "            min_impurity_decrease=0.0, min_impurity_split=None,\n",
       "            min_samples_leaf=1, min_samples_split=2,\n",
       "            min_weight_fraction_leaf=0.0, n_estimators=10000, n_jobs=1,\n",
       "            oob_score=False, random_state=416, verbose=0, warm_start=False)"
      ]
     },
     "execution_count": 57,
     "metadata": {},
     "output_type": "execute_result"
    }
   ],
   "source": [
    "forest = RandomForestClassifier(n_estimators = 10000, random_state = 416)\n",
    "forest.fit(Xtrain, Ytrain.values.ravel())"
   ]
  },
  {
   "cell_type": "code",
   "execution_count": 58,
   "metadata": {},
   "outputs": [
    {
     "data": {
      "image/png": "[encoded data removed]",
      "text/plain": [
       "<matplotlib.figure.Figure at 0x27a95e8e908>"
      ]
     },
     "metadata": {},
     "output_type": "display_data"
    }
   ],
   "source": [
    "n_features = Xtrain.shape[1]\n",
    "\n",
    "plt.figure(figsize=(5,11))\n",
    "plt.barh(range(n_features), forest.feature_importances_, align = 'center')\n",
    "plt.yticks(np.arange(n_features), list(Xtrain))\n",
    "plt.xlabel(\"Feature Importance\")\n",
    "plt.ylabel(\"Feature\")\n",
    "plt.ylim(-1, n_features)\n",
    "plt.show()"
   ]
  },
  {
   "cell_type": "code",
   "execution_count": 59,
   "metadata": {},
   "outputs": [],
   "source": [
    "prediction = forest.predict(Xtest)"
   ]
  },
  {
   "cell_type": "code",
   "execution_count": 60,
   "metadata": {},
   "outputs": [],
   "source": [
    "BLmeanAcc = 0.545191011236"
   ]
  },
  {
   "cell_type": "code",
   "execution_count": 61,
   "metadata": {},
   "outputs": [
    {
     "name": "stdout",
     "output_type": "stream",
     "text": [
      "Accuracy:  0.878453038674\n"
     ]
    }
   ],
   "source": [
    "forestAcc = accuracy_score(Ytest, prediction)\n",
    "print(\"Accuracy: \",forestAcc)"
   ]
  },
  {
   "cell_type": "code",
   "execution_count": 62,
   "metadata": {},
   "outputs": [
    {
     "name": "stdout",
     "output_type": "stream",
     "text": [
      "Improvement over baseline:  0.333262027438\n"
     ]
    }
   ],
   "source": [
    "forestAboveBaseline = forestAcc - BLmeanAcc\n",
    "print(\"Improvement over baseline: \", forestAboveBaseline)"
   ]
  },
  {
   "cell_type": "code",
   "execution_count": 63,
   "metadata": {
    "scrolled": true
   },
   "outputs": [
    {
     "name": "stdout",
     "output_type": "stream",
     "text": [
      "Cohen's Kappa:  0.743196182123\n"
     ]
    }
   ],
   "source": [
    "forestKappa = cohen_kappa_score(Ytest,prediction)\n",
    "print(\"Cohen's Kappa: \",forestKappa)"
   ]
  },
  {
   "cell_type": "markdown",
   "metadata": {},
   "source": [
    "### Just HW grade"
   ]
  },
  {
   "cell_type": "code",
   "execution_count": 64,
   "metadata": {},
   "outputs": [],
   "source": [
    "logreg = LogisticRegression()\n",
    "X2 = Xtrain['HWGrade']\n",
    "X3 = Xtest['HWGrade']"
   ]
  },
  {
   "cell_type": "code",
   "execution_count": 65,
   "metadata": {},
   "outputs": [],
   "source": [
    "X2 = pd.DataFrame(X2)\n",
    "X3 = pd.DataFrame(X3)"
   ]
  },
  {
   "cell_type": "code",
   "execution_count": 66,
   "metadata": {},
   "outputs": [
    {
     "data": {
      "text/plain": [
       "LogisticRegression(C=1.0, class_weight=None, dual=False, fit_intercept=True,\n",
       "          intercept_scaling=1, max_iter=100, multi_class='ovr', n_jobs=1,\n",
       "          penalty='l2', random_state=None, solver='liblinear', tol=0.0001,\n",
       "          verbose=0, warm_start=False)"
      ]
     },
     "execution_count": 66,
     "metadata": {},
     "output_type": "execute_result"
    }
   ],
   "source": [
    "logreg.fit(X2, Ytrain.values.ravel())"
   ]
  },
  {
   "cell_type": "code",
   "execution_count": 67,
   "metadata": {},
   "outputs": [],
   "source": [
    "predictions = logreg.predict(X3)"
   ]
  },
  {
   "cell_type": "code",
   "execution_count": 68,
   "metadata": {},
   "outputs": [
    {
     "data": {
      "text/plain": [
       "0.81215469613259672"
      ]
     },
     "execution_count": 68,
     "metadata": {},
     "output_type": "execute_result"
    }
   ],
   "source": [
    "accuracy_score(Ytest, predictions)"
   ]
  },
  {
   "cell_type": "code",
   "execution_count": 69,
   "metadata": {},
   "outputs": [],
   "source": [
    "from sklearn.metrics import accuracy_score\n",
    "from sklearn.metrics import cohen_kappa_score\n",
    "from sklearn.model_selection import train_test_split\n",
    "\n",
    "names2 = ['HWGrade']\n",
    "\n",
    "X = wk8[names2]\n",
    "Y = wk8.filter(['FinalCourseGradeAB_Rest1'], axis = 1)\n",
    "Xtrain, Xtest, Ytrain, Ytest = train_test_split(\n",
    "    X,Y, test_size = 0.3, random_state = 416)"
   ]
  },
  {
   "cell_type": "code",
   "execution_count": 70,
   "metadata": {},
   "outputs": [
    {
     "data": {
      "text/plain": [
       "['FinalCourseGradeAB_Rest1']"
      ]
     },
     "execution_count": 70,
     "metadata": {},
     "output_type": "execute_result"
    }
   ],
   "source": [
    "list(Y)"
   ]
  },
  {
   "cell_type": "code",
   "execution_count": 71,
   "metadata": {},
   "outputs": [
    {
     "data": {
      "text/plain": [
       "RandomForestClassifier(bootstrap=True, class_weight=None, criterion='gini',\n",
       "            max_depth=None, max_features='auto', max_leaf_nodes=None,\n",
       "            min_impurity_decrease=0.0, min_impurity_split=None,\n",
       "            min_samples_leaf=1, min_samples_split=2,\n",
       "            min_weight_fraction_leaf=0.0, n_estimators=10000, n_jobs=1,\n",
       "            oob_score=False, random_state=416, verbose=0, warm_start=False)"
      ]
     },
     "execution_count": 71,
     "metadata": {},
     "output_type": "execute_result"
    }
   ],
   "source": [
    "forest = RandomForestClassifier(n_estimators = 10000, random_state = 416)\n",
    "forest.fit(Xtrain, Ytrain.values.ravel())"
   ]
  },
  {
   "cell_type": "code",
   "execution_count": 72,
   "metadata": {},
   "outputs": [
    {
     "data": {
      "image/png": "[encoded data removed]",
      "text/plain": [
       "<matplotlib.figure.Figure at 0x27a95e8b8d0>"
      ]
     },
     "metadata": {},
     "output_type": "display_data"
    }
   ],
   "source": [
    "n_features = Xtrain.shape[1]\n",
    "\n",
    "plt.figure(figsize=(5,11))\n",
    "plt.barh(range(n_features), forest.feature_importances_, align = 'center')\n",
    "plt.yticks(np.arange(n_features), list(Xtrain))\n",
    "plt.xlabel(\"Feature Importance\")\n",
    "plt.ylabel(\"Feature\")\n",
    "plt.ylim(-1, n_features)\n",
    "plt.show()"
   ]
  },
  {
   "cell_type": "code",
   "execution_count": 73,
   "metadata": {},
   "outputs": [],
   "source": [
    "prediction = forest.predict(Xtest)"
   ]
  },
  {
   "cell_type": "code",
   "execution_count": 74,
   "metadata": {},
   "outputs": [],
   "source": [
    "BLmeanAcc = 0.545191011236"
   ]
  },
  {
   "cell_type": "code",
   "execution_count": 75,
   "metadata": {},
   "outputs": [
    {
     "name": "stdout",
     "output_type": "stream",
     "text": [
      "Accuracy:  0.75138121547\n"
     ]
    }
   ],
   "source": [
    "forestAcc = accuracy_score(Ytest, prediction)\n",
    "print(\"Accuracy: \",forestAcc)"
   ]
  },
  {
   "cell_type": "code",
   "execution_count": 76,
   "metadata": {},
   "outputs": [
    {
     "name": "stdout",
     "output_type": "stream",
     "text": [
      "Improvement over baseline:  0.206190204234\n"
     ]
    }
   ],
   "source": [
    "forestAboveBaseline = forestAcc - BLmeanAcc\n",
    "print(\"Improvement over baseline: \", forestAboveBaseline)"
   ]
  },
  {
   "cell_type": "code",
   "execution_count": 77,
   "metadata": {
    "scrolled": true
   },
   "outputs": [
    {
     "name": "stdout",
     "output_type": "stream",
     "text": [
      "Cohen's Kappa:  0.480250143577\n"
     ]
    }
   ],
   "source": [
    "forestKappa = cohen_kappa_score(Ytest,prediction)\n",
    "print(\"Cohen's Kappa: \",forestKappa)"
   ]
  },
  {
   "cell_type": "markdown",
   "metadata": {},
   "source": [
    "## Layered Model with Demo-Variables"
   ]
  },
  {
   "cell_type": "code",
   "execution_count": 78,
   "metadata": {},
   "outputs": [
    {
     "name": "stdout",
     "output_type": "stream",
     "text": [
      "LecQGrade                 float64\n",
      "LabQGrade                 float64\n",
      "HWGrade                   float64\n",
      "MissedLectures            float64\n",
      "MissedAnyLectures           int32\n",
      "BonusPoints               float64\n",
      "Test1                     float64\n",
      "Test2                     float64\n",
      "High.School.GPA           float64\n",
      "ACTSATMathPercentile      float64\n",
      "ACTSATVerbalPercentile    float64\n",
      "Sem1GPA                   float64\n",
      "P111FirstGradeNUM         float64\n",
      "Cal1FirstGradeNUM         float64\n",
      "dtype: object\n"
     ]
    }
   ],
   "source": [
    "from sklearn.model_selection import train_test_split\n",
    "\n",
    "names = [ 'LecQGrade', 'LabQGrade', 'HWGrade', 'MissedLectures', 'MissedAnyLectures', 'BonusPoints',\n",
    "         'Test1','Test2',\"High.School.GPA\",\"ACTSATMathPercentile\",\n",
    "         \"ACTSATVerbalPercentile\",\"Sem1GPA\",\n",
    "'P111FirstGradeNUM',\"Cal1FirstGradeNUM\"]\n",
    "\n",
    "wk8['FinalCourseGradeAB_Rest1'] = np.where(wk8['FinalCourseGradeAB_Rest'] == \"AB\", 1,0)\n",
    "#X = wk8.drop('FinalCourseGradeAB_Rest', axis = 1)\n",
    "X = wk8[names]\n",
    "Y = wk8.filter(['FinalCourseGradeAB_Rest1'], axis = 1)\n",
    "Xtrain, Xtest, Ytrain, Ytest = train_test_split(\n",
    "    X,Y, test_size = 0.3, random_state = 416)\n",
    "\n",
    "\n",
    "print(Xtrain.dtypes)"
   ]
  },
  {
   "cell_type": "markdown",
   "metadata": {},
   "source": [
    "### Evaluation of Best ML Algorithm"
   ]
  },
  {
   "cell_type": "code",
   "execution_count": 79,
   "metadata": {},
   "outputs": [
    {
     "name": "stdout",
     "output_type": "stream",
     "text": [
      "LR: 0.883333 (0.046960)\n",
      "LDA: 0.892857 (0.044224)\n",
      "KNN: 0.838095 (0.066326)\n",
      "CART: 0.859524 (0.034421)\n",
      "NB: 0.869048 (0.061399)\n",
      "SVM: 0.752381 (0.081927)\n",
      "RF: 0.907143 (0.050451)\n",
      "LR: 0.861988 (0.071069)\n",
      "LDA: 0.878070 (0.054797)\n"
     ]
    },
    {
     "name": "stderr",
     "output_type": "stream",
     "text": [
      "C:\\Users\\Lynn\\Anaconda3\\lib\\site-packages\\sklearn\\discriminant_analysis.py:388: UserWarning: Variables are collinear.\n",
      "  warnings.warn(\"Variables are collinear.\")\n"
     ]
    },
    {
     "name": "stdout",
     "output_type": "stream",
     "text": [
      "KNN: 0.872515 (0.056216)\n",
      "CART: 0.872515 (0.056216)\n",
      "NB: 0.861696 (0.075799)\n",
      "SVM: 0.712865 (0.080861)\n",
      "RF: 0.911696 (0.050692)\n",
      "RF: 0.673487 (0.171664)\n",
      "RF: 0.712465 (0.144455)\n",
      "RF: 0.709136 (0.119407)\n",
      "RF: 0.738934 (0.114605)\n",
      "RF: 0.669080 (0.189423)\n",
      "RF: 0.226929 (0.164933)\n"
     ]
    },
    {
     "name": "stderr",
     "output_type": "stream",
     "text": [
      "C:\\Users\\Lynn\\Anaconda3\\lib\\site-packages\\sklearn\\discriminant_analysis.py:388: UserWarning: Variables are collinear.\n",
      "  warnings.warn(\"Variables are collinear.\")\n"
     ]
    },
    {
     "name": "stdout",
     "output_type": "stream",
     "text": [
      "RF: 0.738575 (0.148503)\n",
      "RF: 0.673487 (0.171664)\n",
      "RF: 0.712465 (0.144455)\n",
      "RF: 0.709136 (0.119407)\n",
      "RF: 0.726268 (0.151253)\n",
      "RF: 0.669080 (0.189423)\n",
      "RF: 0.226929 (0.164933)\n"
     ]
    },
    {
     "name": "stderr",
     "output_type": "stream",
     "text": [
      "C:\\Users\\Lynn\\Anaconda3\\lib\\site-packages\\sklearn\\discriminant_analysis.py:388: UserWarning: Variables are collinear.\n",
      "  warnings.warn(\"Variables are collinear.\")\n"
     ]
    },
    {
     "name": "stdout",
     "output_type": "stream",
     "text": [
      "RF: 0.752769 (0.123746)\n"
     ]
    }
   ],
   "source": [
    "seed = 416\n",
    "# prepare models\n",
    "models = []\n",
    "models.append(('LR', LogisticRegression()))\n",
    "models.append(('LDA', LinearDiscriminantAnalysis()))\n",
    "models.append(('KNN', KNeighborsClassifier()))\n",
    "models.append(('CART', DecisionTreeClassifier()))\n",
    "models.append(('NB', GaussianNB()))\n",
    "models.append(('SVM', SVC()))\n",
    "#models.append(('KMeans',KMeans()))\n",
    "models.append(('RF', RandomForestClassifier()))\n",
    "# evaluate each model in turn\n",
    "results = []\n",
    "results2 = []\n",
    "results3 = []\n",
    "results4 = []\n",
    "names = []\n",
    "names2 = []\n",
    "names3 = []\n",
    "names4 = []\n",
    "scoring = 'accuracy'\n",
    "\n",
    "\n",
    "for name, model in models:\n",
    "\tkfold = model_selection.KFold(n_splits=10, random_state=seed)\n",
    "\tcv_results = model_selection.cross_val_score(model, Xtrain, Ytrain.values.ravel(), cv=kfold, scoring=scoring)\n",
    "\tresults.append(cv_results)\n",
    "\tnames.append(name)\n",
    "\tmsg = \"%s: %f (%f)\" % (name, cv_results.mean(), cv_results.std())\n",
    "\tprint(msg)\n",
    "\n",
    "for name2, model in models:\n",
    "\tkfold = model_selection.KFold(n_splits=10, random_state=seed)\n",
    "\tcv_results = model_selection.cross_val_score(model, Xtest, Ytest.values.ravel(), cv=kfold, scoring=scoring)\n",
    "\tresults2.append(cv_results)\n",
    "\tnames2.append(name2)\n",
    "\tmsg = \"%s: %f (%f)\" % (name2, cv_results.mean(), cv_results.std())\n",
    "\tprint(msg)\n",
    "\n",
    "from sklearn.metrics import cohen_kappa_score, make_scorer\n",
    "kappa_scorer = make_scorer(cohen_kappa_score)\n",
    "\n",
    "for name3, model in models:\n",
    "\tkfold = model_selection.KFold(n_splits=10, random_state=seed)\n",
    "\tcv_results = model_selection.cross_val_score(model, Xtest, Ytest.values.ravel(), cv=kfold, scoring=kappa_scorer)\n",
    "\tresults3.append(cv_results)\n",
    "\tnames3.append(name3)\n",
    "\tmsg = \"%s: %f (%f)\" % (name2, cv_results.mean(), cv_results.std())\n",
    "\tprint(msg)\n",
    "\n",
    "for name4, model in models:\n",
    "\tkfold = model_selection.KFold(n_splits=10, random_state=seed)\n",
    "\tcv_results = model_selection.cross_val_score(model, Xtest, Ytest.values.ravel(), cv=kfold, scoring=kappa_scorer)\n",
    "\tresults4.append(cv_results)\n",
    "\tnames4.append(name4)\n",
    "\tmsg = \"%s: %f (%f)\" % (name2, cv_results.mean(), cv_results.std())\n",
    "\tprint(msg)"
   ]
  },
  {
   "cell_type": "code",
   "execution_count": 80,
   "metadata": {},
   "outputs": [
    {
     "data": {
      "image/png": "[encoded data removed]",
      "text/plain": [
       "<matplotlib.figure.Figure at 0x27a95f3f198>"
      ]
     },
     "metadata": {},
     "output_type": "display_data"
    }
   ],
   "source": [
    "fig = plt.figure(figsize = (9,9))\n",
    "fig.suptitle('Algorithm Comparison')\n",
    "ax = fig.add_subplot(221)\n",
    "plt.boxplot(results)\n",
    "ax.set_xticklabels(names2)\n",
    "plt.title(\"Training CV Accuracy\")\n",
    "ax = fig.add_subplot(223)\n",
    "plt.boxplot(results2)\n",
    "ax.set_xticklabels(names2)\n",
    "plt.title(\"Test CV Accuracy\")\n",
    "ax = fig.add_subplot(222)\n",
    "plt.boxplot(results3)\n",
    "ax.set_xticklabels(names2)\n",
    "plt.title('Training CV Kappa')\n",
    "ax = fig.add_subplot(224)\n",
    "plt.boxplot(results4)\n",
    "ax.set_xticklabels(names2)\n",
    "plt.title(\"Training CV Kappa\")\n",
    "plt.show()"
   ]
  },
  {
   "cell_type": "code",
   "execution_count": 92,
   "metadata": {},
   "outputs": [
    {
     "data": {
      "text/plain": [
       "RandomForestClassifier(bootstrap=True, class_weight=None, criterion='gini',\n",
       "            max_depth=None, max_features='auto', max_leaf_nodes=None,\n",
       "            min_impurity_decrease=0.0, min_impurity_split=None,\n",
       "            min_samples_leaf=1, min_samples_split=2,\n",
       "            min_weight_fraction_leaf=0.0, n_estimators=10000, n_jobs=1,\n",
       "            oob_score=False, random_state=416, verbose=0, warm_start=False)"
      ]
     },
     "execution_count": 92,
     "metadata": {},
     "output_type": "execute_result"
    }
   ],
   "source": [
    "forest = RandomForestClassifier(n_estimators = 10000, random_state = 416)\n",
    "forest.fit(Xtrain, Ytrain.values.ravel())"
   ]
  },
  {
   "cell_type": "code",
   "execution_count": 93,
   "metadata": {},
   "outputs": [
    {
     "data": {
      "image/png": "[encoded data removed]",
      "text/plain": [
       "<matplotlib.figure.Figure at 0x27aa7fbb048>"
      ]
     },
     "metadata": {},
     "output_type": "display_data"
    }
   ],
   "source": [
    "n_features = Xtrain.shape[1]\n",
    "\n",
    "\n",
    "plt.barh(range(n_features), forest.feature_importances_, align = 'center')\n",
    "plt.yticks(np.arange(n_features), list(Xtrain))\n",
    "plt.xlabel(\"Feature Importance\")\n",
    "plt.ylabel(\"Feature\")\n",
    "plt.ylim(-1, n_features)\n",
    "plt.show()"
   ]
  },
  {
   "cell_type": "code",
   "execution_count": 94,
   "metadata": {},
   "outputs": [],
   "source": [
    "prediction = forest.predict(Xtest)"
   ]
  },
  {
   "cell_type": "code",
   "execution_count": 95,
   "metadata": {},
   "outputs": [],
   "source": [
    "pred2 =  forest.predict_proba(Xtest)"
   ]
  },
  {
   "cell_type": "code",
   "execution_count": 96,
   "metadata": {},
   "outputs": [
    {
     "data": {
      "text/plain": [
       "array([[  2.15000000e-02,   9.78500000e-01],\n",
       "       [  1.22675000e-01,   8.77325000e-01],\n",
       "       [  7.90000000e-02,   9.21000000e-01],\n",
       "       [  1.98800000e-01,   8.01200000e-01],\n",
       "       [  6.61791032e-01,   3.38208968e-01],\n",
       "       [  9.89500000e-01,   1.05000000e-02],\n",
       "       [  3.99900000e-01,   6.00100000e-01],\n",
       "       [  6.83316587e-01,   3.16683413e-01],\n",
       "       [  5.30100000e-01,   4.69900000e-01],\n",
       "       [  1.52151667e-01,   8.47848333e-01],\n",
       "       [  2.40000000e-03,   9.97600000e-01],\n",
       "       [  5.96353254e-01,   4.03646746e-01],\n",
       "       [  1.80700000e-01,   8.19300000e-01],\n",
       "       [  6.11243333e-01,   3.88756667e-01],\n",
       "       [  2.29000000e-02,   9.77100000e-01],\n",
       "       [  7.96066667e-01,   2.03933333e-01],\n",
       "       [  3.18457778e-01,   6.81542222e-01],\n",
       "       [  9.98900000e-01,   1.10000000e-03],\n",
       "       [  9.10000000e-03,   9.90900000e-01],\n",
       "       [  6.60878095e-01,   3.39121905e-01],\n",
       "       [  1.35000000e-02,   9.86500000e-01],\n",
       "       [  7.00056667e-01,   2.99943333e-01],\n",
       "       [  1.92388095e-01,   8.07611905e-01],\n",
       "       [  5.40000000e-03,   9.94600000e-01],\n",
       "       [  6.19724921e-01,   3.80275079e-01],\n",
       "       [  1.62600000e-01,   8.37400000e-01],\n",
       "       [  3.81106667e-01,   6.18893333e-01],\n",
       "       [  6.80979286e-01,   3.19020714e-01],\n",
       "       [  1.40500000e-01,   8.59500000e-01],\n",
       "       [  1.44300000e-01,   8.55700000e-01],\n",
       "       [  4.65425000e-01,   5.34575000e-01],\n",
       "       [  4.31000000e-02,   9.56900000e-01],\n",
       "       [  1.14000000e-02,   9.88600000e-01],\n",
       "       [  3.68000000e-02,   9.63200000e-01],\n",
       "       [  3.98000000e-02,   9.60200000e-01],\n",
       "       [  6.87673644e-01,   3.12326356e-01],\n",
       "       [  8.03683929e-01,   1.96316071e-01],\n",
       "       [  3.30000000e-03,   9.96700000e-01],\n",
       "       [  5.15000000e-02,   9.48500000e-01],\n",
       "       [  6.36772500e-01,   3.63227500e-01],\n",
       "       [  2.36000000e-02,   9.76400000e-01],\n",
       "       [  2.89100000e-01,   7.10900000e-01],\n",
       "       [  9.92700000e-01,   7.30000000e-03],\n",
       "       [  6.35758333e-01,   3.64241667e-01],\n",
       "       [  4.34238889e-01,   5.65761111e-01],\n",
       "       [  6.49244881e-01,   3.50755119e-01],\n",
       "       [  5.00000000e-03,   9.95000000e-01],\n",
       "       [  1.96000000e-02,   9.80400000e-01],\n",
       "       [  8.13830476e-01,   1.86169524e-01],\n",
       "       [  1.97100000e-01,   8.02900000e-01],\n",
       "       [  2.32805476e-01,   7.67194524e-01],\n",
       "       [  1.00000000e-03,   9.99000000e-01],\n",
       "       [  4.30000000e-03,   9.95700000e-01],\n",
       "       [  4.20001667e-01,   5.79998333e-01],\n",
       "       [  7.60400000e-01,   2.39600000e-01],\n",
       "       [  9.40000000e-03,   9.90600000e-01],\n",
       "       [  5.33000000e-02,   9.46700000e-01],\n",
       "       [  7.51658333e-01,   2.48341667e-01],\n",
       "       [  7.51658333e-01,   2.48341667e-01],\n",
       "       [  1.26000000e-02,   9.87400000e-01],\n",
       "       [  8.51505714e-01,   1.48494286e-01],\n",
       "       [  8.12300000e-01,   1.87700000e-01],\n",
       "       [  2.32819167e-01,   7.67180833e-01],\n",
       "       [  4.80000000e-03,   9.95200000e-01],\n",
       "       [  8.81400000e-02,   9.11860000e-01],\n",
       "       [  6.49076667e-01,   3.50923333e-01],\n",
       "       [  3.13997262e-01,   6.86002738e-01],\n",
       "       [  2.10000000e-03,   9.97900000e-01],\n",
       "       [  2.40000000e-01,   7.60000000e-01],\n",
       "       [  9.86100000e-01,   1.39000000e-02],\n",
       "       [  5.47513333e-01,   4.52486667e-01],\n",
       "       [  9.44642143e-01,   5.53578571e-02],\n",
       "       [  7.75133333e-02,   9.22486667e-01],\n",
       "       [  6.76313543e-01,   3.23686457e-01],\n",
       "       [  5.57566667e-02,   9.44243333e-01],\n",
       "       [  1.40000000e-02,   9.86000000e-01],\n",
       "       [  7.31363056e-01,   2.68636944e-01],\n",
       "       [  7.34901190e-01,   2.65098810e-01],\n",
       "       [  8.42500000e-02,   9.15750000e-01],\n",
       "       [  2.24000000e-02,   9.77600000e-01],\n",
       "       [  1.81860000e-01,   8.18140000e-01],\n",
       "       [  6.94206508e-01,   3.05793492e-01],\n",
       "       [  9.92700000e-01,   7.30000000e-03],\n",
       "       [  4.00000000e-04,   9.99600000e-01],\n",
       "       [  1.33200000e-01,   8.66800000e-01],\n",
       "       [  4.94760476e-01,   5.05239524e-01],\n",
       "       [  4.19000000e-02,   9.58100000e-01],\n",
       "       [  2.12000000e-01,   7.88000000e-01],\n",
       "       [  1.02200000e-01,   8.97800000e-01],\n",
       "       [  1.63173333e-01,   8.36826667e-01],\n",
       "       [  1.73800000e-01,   8.26200000e-01],\n",
       "       [  1.60000000e-03,   9.98400000e-01],\n",
       "       [  9.86878333e-01,   1.31216667e-02],\n",
       "       [  5.72000000e-02,   9.42800000e-01],\n",
       "       [  5.64984286e-01,   4.35015714e-01],\n",
       "       [  4.10000000e-03,   9.95900000e-01],\n",
       "       [  2.01000000e-02,   9.79900000e-01],\n",
       "       [  8.54000000e-02,   9.14600000e-01],\n",
       "       [  8.04991667e-01,   1.95008333e-01],\n",
       "       [  9.15830000e-01,   8.41700000e-02],\n",
       "       [  1.04400000e-01,   8.95600000e-01],\n",
       "       [  7.91506667e-01,   2.08493333e-01],\n",
       "       [  8.98475000e-01,   1.01525000e-01],\n",
       "       [  5.50000000e-03,   9.94500000e-01],\n",
       "       [  2.27200000e-01,   7.72800000e-01],\n",
       "       [  2.18110476e-01,   7.81889524e-01],\n",
       "       [  2.74000000e-02,   9.72600000e-01],\n",
       "       [  6.78960714e-01,   3.21039286e-01],\n",
       "       [  4.90900000e-02,   9.50910000e-01],\n",
       "       [  1.10560000e-01,   8.89440000e-01],\n",
       "       [  2.59700000e-01,   7.40300000e-01],\n",
       "       [  6.57000000e-02,   9.34300000e-01],\n",
       "       [  4.17900000e-01,   5.82100000e-01],\n",
       "       [  8.15100000e-01,   1.84900000e-01],\n",
       "       [  9.04871429e-01,   9.51285714e-02],\n",
       "       [  7.12570317e-01,   2.87429683e-01],\n",
       "       [  9.04871429e-01,   9.51285714e-02],\n",
       "       [  9.00000000e-03,   9.91000000e-01],\n",
       "       [  7.92000000e-02,   9.20800000e-01],\n",
       "       [  1.89800000e-01,   8.10200000e-01],\n",
       "       [  4.42000000e-01,   5.58000000e-01],\n",
       "       [  2.47771667e-01,   7.52228333e-01],\n",
       "       [  6.11243333e-01,   3.88756667e-01],\n",
       "       [  7.00000000e-04,   9.99300000e-01],\n",
       "       [  9.15830000e-01,   8.41700000e-02],\n",
       "       [  6.78960714e-01,   3.21039286e-01],\n",
       "       [  7.05900000e-01,   2.94100000e-01],\n",
       "       [  9.98900000e-01,   1.10000000e-03],\n",
       "       [  7.10800000e-01,   2.89200000e-01],\n",
       "       [  9.00000000e-04,   9.99100000e-01],\n",
       "       [  5.32510000e-01,   4.67490000e-01],\n",
       "       [  1.26050000e-01,   8.73950000e-01],\n",
       "       [  9.40123333e-01,   5.98766667e-02],\n",
       "       [  1.50000000e-03,   9.98500000e-01],\n",
       "       [  2.57860556e-01,   7.42139444e-01],\n",
       "       [  2.00000000e-04,   9.99800000e-01],\n",
       "       [  8.26170000e-01,   1.73830000e-01],\n",
       "       [  5.90000000e-03,   9.94100000e-01],\n",
       "       [  4.52000000e-02,   9.54800000e-01],\n",
       "       [  4.91666667e-02,   9.50833333e-01],\n",
       "       [  8.00400000e-02,   9.19960000e-01],\n",
       "       [  4.55000000e-02,   9.54500000e-01],\n",
       "       [  3.14100000e-01,   6.85900000e-01],\n",
       "       [  6.50000000e-03,   9.93500000e-01],\n",
       "       [  1.66200000e-01,   8.33800000e-01],\n",
       "       [  7.40980000e-01,   2.59020000e-01],\n",
       "       [  2.30225000e-01,   7.69775000e-01],\n",
       "       [  7.04130000e-01,   2.95870000e-01],\n",
       "       [  6.61791032e-01,   3.38208968e-01],\n",
       "       [  2.38000000e-02,   9.76200000e-01],\n",
       "       [  9.85946667e-01,   1.40533333e-02],\n",
       "       [  1.59000000e-02,   9.84100000e-01],\n",
       "       [  3.00000000e-02,   9.70000000e-01],\n",
       "       [  4.13253452e-01,   5.86746548e-01],\n",
       "       [  5.04458333e-01,   4.95541667e-01],\n",
       "       [  3.53500000e-01,   6.46500000e-01],\n",
       "       [  1.61300000e-01,   8.38700000e-01],\n",
       "       [  4.00000000e-04,   9.99600000e-01],\n",
       "       [  1.28666667e-01,   8.71333333e-01],\n",
       "       [  1.40000000e-02,   9.86000000e-01],\n",
       "       [  4.38362857e-01,   5.61637143e-01],\n",
       "       [  8.98475000e-01,   1.01525000e-01],\n",
       "       [  9.00000000e-04,   9.99100000e-01],\n",
       "       [  2.50400000e-01,   7.49600000e-01],\n",
       "       [  8.70000000e-03,   9.91300000e-01],\n",
       "       [  3.11666667e-02,   9.68833333e-01],\n",
       "       [  3.29300000e-01,   6.70700000e-01],\n",
       "       [  6.74898254e-01,   3.25101746e-01],\n",
       "       [  6.08000000e-02,   9.39200000e-01],\n",
       "       [  4.70000000e-03,   9.95300000e-01],\n",
       "       [  1.78000000e-01,   8.22000000e-01],\n",
       "       [  8.00700000e-01,   1.99300000e-01],\n",
       "       [  6.62750000e-01,   3.37250000e-01],\n",
       "       [  1.51600000e-01,   8.48400000e-01],\n",
       "       [  8.33950000e-01,   1.66050000e-01],\n",
       "       [  1.31400000e-01,   8.68600000e-01],\n",
       "       [  1.77000000e-02,   9.82300000e-01],\n",
       "       [  1.33299762e-01,   8.66700238e-01],\n",
       "       [  7.00000000e-04,   9.99300000e-01],\n",
       "       [  9.93200000e-01,   6.80000000e-03],\n",
       "       [  9.98900000e-01,   1.10000000e-03]])"
      ]
     },
     "execution_count": 96,
     "metadata": {},
     "output_type": "execute_result"
    }
   ],
   "source": [
    "pred2"
   ]
  },
  {
   "cell_type": "code",
   "execution_count": 84,
   "metadata": {},
   "outputs": [
    {
     "name": "stdout",
     "output_type": "stream",
     "text": [
      "Demo Baseline Accuracy:  0.806629834254\n"
     ]
    }
   ],
   "source": [
    "names = [\"High.School.GPA\",\"ACTSATMathPercentile\",\"ACTSATVerbalPercentile\",\"Sem1GPA\",\n",
    "'P111FirstGradeNUM',\"Cal1FirstGradeNUM\"]\n",
    "\n",
    "wk8['FinalCourseGradeAB_Rest1'] = np.where(wk8['FinalCourseGradeAB_Rest'] == \"AB\", 1,0)\n",
    "#X = wk8.drop('FinalCourseGradeAB_Rest', axis = 1)\n",
    "X = wk8[names]\n",
    "Y = wk8.filter(['FinalCourseGradeAB_Rest1'], axis = 1)\n",
    "Xtrain, Xtest, Ytrain, Ytest = train_test_split(\n",
    "    X,Y, test_size = 0.3, random_state = 416)\n",
    "demof = RandomForestClassifier(n_estimators = 10000, random_state = 416)\n",
    "demof.fit(Xtrain, Ytrain.values.ravel())\n",
    "pred = demof.predict(Xtest)\n",
    "DemoAcc = accuracy_score(Ytest, pred)\n",
    "print(\"Demo Baseline Accuracy: \", DemoAcc)"
   ]
  },
  {
   "cell_type": "code",
   "execution_count": 85,
   "metadata": {},
   "outputs": [
    {
     "name": "stdout",
     "output_type": "stream",
     "text": [
      "Accuracy:  0.906077348066\n"
     ]
    }
   ],
   "source": [
    "forestAcc = accuracy_score(Ytest, prediction)\n",
    "print(\"Accuracy: \",forestAcc)"
   ]
  },
  {
   "cell_type": "code",
   "execution_count": 86,
   "metadata": {},
   "outputs": [
    {
     "name": "stdout",
     "output_type": "stream",
     "text": [
      "Improvement over baseline:  0.36088633683\n"
     ]
    }
   ],
   "source": [
    "forestAboveBaseline = forestAcc - BLmeanAcc\n",
    "print(\"Improvement over baseline: \", forestAboveBaseline)"
   ]
  },
  {
   "cell_type": "code",
   "execution_count": 87,
   "metadata": {},
   "outputs": [
    {
     "name": "stdout",
     "output_type": "stream",
     "text": [
      "Improvement of Adding Class Variables:  0.0994475138122\n"
     ]
    }
   ],
   "source": [
    "forestAboveDemoBaseline = forestAcc - DemoAcc\n",
    "print(\"Improvement of Adding Class Variables: \", forestAboveDemoBaseline)"
   ]
  },
  {
   "cell_type": "code",
   "execution_count": 88,
   "metadata": {
    "scrolled": true
   },
   "outputs": [
    {
     "name": "stdout",
     "output_type": "stream",
     "text": [
      "Cohen's Kappa:  0.789318726464\n"
     ]
    }
   ],
   "source": [
    "forestKappa = cohen_kappa_score(Ytest,prediction)\n",
    "print(\"Cohen's Kappa: \",forestKappa)"
   ]
  },
  {
   "cell_type": "code",
   "execution_count": null,
   "metadata": {},
   "outputs": [],
   "source": []
  },
  {
   "cell_type": "code",
   "execution_count": null,
   "metadata": {},
   "outputs": [],
   "source": []
  }
 ],
 "metadata": {
  "kernelspec": {
   "display_name": "Python 3",
   "language": "python",
   "name": "python3"
  },
  "language_info": {
   "codemirror_mode": {
    "name": "ipython",
    "version": 3
   },
   "file_extension": ".py",
   "mimetype": "text/x-python",
   "name": "python",
   "nbconvert_exporter": "python",
   "pygments_lexer": "ipython3",
   "version": "3.6.3"
  }
 },
 "nbformat": 4,
 "nbformat_minor": 2
}
