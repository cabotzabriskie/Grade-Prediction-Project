{
 "cells": [
  {
   "cell_type": "markdown",
   "metadata": {},
   "source": [
    "## Importing Data and Cleaning"
   ]
  },
  {
   "cell_type": "code",
   "execution_count": 99,
   "metadata": {
    "scrolled": true
   },
   "outputs": [
    {
     "name": "stderr",
     "output_type": "stream",
     "text": [
      "C:\\Users\\Lynn\\Anaconda3\\lib\\site-packages\\IPython\\core\\interactiveshell.py:2698: DtypeWarning: Columns (31,77,79,80,83,85,86,138,146,157,158,159,160,161,162,163,164,165,166,167,168,169,170,171,172,173,174,175,176,177,178,179,180,181,182,183,184,185,186,187,188,189,190,191,192,193,194,195,196,197,198,199,200,201,202,203,204,205,206,207,208,209,210,211,212,213,214,215,216,217,218,219,220,221,222,226,227,266,268,269,270,271,272,273,274,275,276,277,278,279,280,281,282,283,285,286,287,288,289,290,291,292,293,294,295,296,297,298,299,300,311,313,316) have mixed types. Specify dtype option on import or set low_memory=False.\n",
      "  interactivity=interactivity, compiler=compiler, result=result)\n",
      "C:\\Users\\Lynn\\Anaconda3\\lib\\site-packages\\IPython\\core\\interactiveshell.py:2698: DtypeWarning: Columns (64,113,118,150,156,161,193,267,316,317,456,458,503,572,605,607,648,649,651,653,658,660,662,664,673,674,719,720,722,723,724,725,800,801,804,805,806,808,809,810,811,812,813,814,815,816,817,828,829,830,831,833,834,835,836,837,838,839,840,841,843,844,845,846,847,849,851,862,864,865,866,867,869,872,875,877,878,879,880,881,885,887,888,889,890,891,901,902,903,910,911,913,914,917,923,924,925,938,939,940,941,942,943,956,957,958,959,960,961,962,963,964,965,966,967,968,969,970,971,972,973,974,975,976,977,979,980,984,985,987,988,990,991,992,993,994,995,996,997,998,999,1001,1002,1003,1004,1005,1006,1007,1009,1012,1013,1015,1017,1021,1022,1027,1028,1029,1030,1146,1147,1148,1149,1150,1156,1191,1192,1193,1198,1205,1209,1210,1211,1212,1213,1214,1215,1216,1217,1218,1221,1223,1226,1227,1240,1241) have mixed types. Specify dtype option on import or set low_memory=False.\n",
      "  interactivity=interactivity, compiler=compiler, result=result)\n"
     ]
    }
   ],
   "source": [
    "import pandas as pd\n",
    "import numpy as np\n",
    "import matplotlib.pyplot as plt\n",
    "from sklearn import model_selection\n",
    "from sklearn.linear_model import LogisticRegression\n",
    "from sklearn.tree import DecisionTreeClassifier\n",
    "from sklearn.neighbors import KNeighborsClassifier\n",
    "from sklearn.discriminant_analysis import LinearDiscriminantAnalysis\n",
    "from sklearn.naive_bayes import GaussianNB\n",
    "from sklearn.svm import SVC\n",
    "from sklearn.cluster import KMeans\n",
    "from sklearn.ensemble import RandomForestClassifier\n",
    "\n",
    "wk3 = pd.read_csv('Intermediate-Data/Week_3_data.csv')\n",
    "stemr = pd.read_csv('Intermediate-Data/FUllyMergedDataset.csv')\n",
    "idkey = pd.read_csv('Intermediate-Data/ID Key-6-3-18.csv')\n",
    "idkey2 = pd.read_csv('Intermediate-Data/username to id.csv')\n",
    "idkey = idkey.rename(columns ={'ID':'AnonID'})\n",
    "idkey2 = idkey2.rename(columns ={'Student Id':'AnonID'})\n"
   ]
  },
  {
   "cell_type": "code",
   "execution_count": 100,
   "metadata": {},
   "outputs": [
    {
     "data": {
      "text/plain": [
       "1282"
      ]
     },
     "execution_count": 100,
     "metadata": {},
     "output_type": "execute_result"
    }
   ],
   "source": [
    "len(wk3)"
   ]
  },
  {
   "cell_type": "code",
   "execution_count": 102,
   "metadata": {},
   "outputs": [],
   "source": [
    "mathgrdstr = ['M126FirstGrade2','M128FirstGrade2','M129FirstGrade2','M153FirstGrade2','M154FirstGrade2',\n",
    "             'M155FirstGrade2','M156FirstGrade2']\n",
    "mathstr = ['M126ClassStr','M128ClassStr','M129ClassStr','M153ClassStr','M154ClassStr',\n",
    "             'M155ClassStr','M156ClassStr']\n"
   ]
  },
  {
   "cell_type": "code",
   "execution_count": 104,
   "metadata": {},
   "outputs": [],
   "source": [
    "\n",
    "for n in range(0,len(mathstr)):\n",
    "    stemr[mathgrdstr[n]] = stemr[mathstr[n]].astype(str).str[0]\n"
   ]
  },
  {
   "cell_type": "code",
   "execution_count": 105,
   "metadata": {},
   "outputs": [],
   "source": [
    "stemr['P111FirstGrade'] = stemr['P111FirstGrade'].astype(str).str[0]\n",
    "stemr['Cal1FirstGrade'] = stemr['Cal1FirstGrade'].astype(str).str[0]"
   ]
  },
  {
   "cell_type": "code",
   "execution_count": 106,
   "metadata": {},
   "outputs": [],
   "source": [
    "stemr2 = stemr[[    'AnonID',\n",
    "                    'High.School.GPA',\n",
    "                    'ACTSATMathPercentile',\n",
    "                    'ACTSATVerbalPercentile',\n",
    "                    'Sem1GPA','P111FirstGrade','Cal1FirstGrade','P112FirstGrade'   ]]\n"
   ]
  },
  {
   "cell_type": "code",
   "execution_count": 107,
   "metadata": {},
   "outputs": [],
   "source": [
    "stemr3 = pd.merge(stemr2,idkey2, on = 'AnonID')"
   ]
  },
  {
   "cell_type": "code",
   "execution_count": 108,
   "metadata": {},
   "outputs": [],
   "source": [
    "data = pd.merge(wk3, stemr3, on = 'Username')\n",
    "data = pd.merge(data, survey, on = 'Username')\n"
   ]
  },
  {
   "cell_type": "code",
   "execution_count": 109,
   "metadata": {},
   "outputs": [],
   "source": [
    "data = data[pd.notnull(data['P112FirstGrade'])]\n",
    "data['P112FirstGrade1'] = data.loc[:,'P112FirstGrade'].astype(str).str[0]\n",
    "\n",
    "data[\"FinalCourseGradeAB_Rest1\"] = np.where(data['P112FirstGrade1'] == \"A\",1,0)\n",
    "data[\"FinalCourseGradeAB_Rest1\"] = np.where(data['P112FirstGrade1'] == \"B\",1,data['FinalCourseGradeAB_Rest1'])\n",
    "\n",
    "data['Cal1FirstGradeNUM'] = 0\n",
    "\n",
    "data['Cal1FirstGradeNUM'] = np.where(data['Cal1FirstGrade'] == \"A\",4,0)\n",
    "data['Cal1FirstGradeNUM'] = np.where(data['Cal1FirstGrade'] == \"B\",3,data['Cal1FirstGradeNUM'])\n",
    "data['Cal1FirstGradeNUM'] = np.where(data['Cal1FirstGrade'] == \"C\",2,data['Cal1FirstGradeNUM'])\n",
    "data['Cal1FirstGradeNUM'] = np.where(data['Cal1FirstGrade'] == \"D\",1,data['Cal1FirstGradeNUM'])\n",
    "data['Cal1FirstGradeNUM'] = np.where(data['Cal1FirstGrade'] == \"W\",-1,data['Cal1FirstGradeNUM'])\n",
    "data['Cal1FirstGradeNUM'] = np.where(data['Cal1FirstGrade'] == \"n\",data['Sem1GPA'].round(1),data['Cal1FirstGradeNUM'])\n",
    "data['Cal1FirstGradeNUM'] = np.where(data['Cal1FirstGrade'] == \"P\",data['Sem1GPA'].round(1),data['Cal1FirstGradeNUM'])\n",
    "\n",
    "data['P111FirstGradeNUM'] = 0\n",
    "\n",
    "data['P111FirstGradeNUM'] = np.where(data['P111FirstGrade'] == \"A\",4,0)\n",
    "data['P111FirstGradeNUM'] = np.where(data['P111FirstGrade'] == \"B\",3,data['P111FirstGradeNUM'])\n",
    "data['P111FirstGradeNUM'] = np.where(data['P111FirstGrade'] == \"C\",2,data['P111FirstGradeNUM'])\n",
    "data['P111FirstGradeNUM'] = np.where(data['P111FirstGrade'] == \"D\",1,data['P111FirstGradeNUM'])\n",
    "data['P111FirstGradeNUM'] = np.where(data['P111FirstGrade'] == \"W\",-1,data['P111FirstGradeNUM'])\n",
    "data['P111FirstGradeNUM'] = np.where(data['P111FirstGrade'] == \"n\",data['Sem1GPA'].round(1),data['P111FirstGradeNUM'])\n",
    "data['P111FirstGradeNUM'] = np.where(data['P111FirstGrade'] == \"P\",data['Sem1GPA'].round(1),data['P111FirstGradeNUM'])"
   ]
  },
  {
   "cell_type": "code",
   "execution_count": 110,
   "metadata": {},
   "outputs": [],
   "source": [
    "data['TakeCSEM'] = np.where(data['TakeCSEM'] == \"Y\", 1,0)"
   ]
  },
  {
   "cell_type": "code",
   "execution_count": 111,
   "metadata": {},
   "outputs": [],
   "source": [
    "data['High.School.GPA'] = pd.to_numeric(data['High.School.GPA'], errors = \"coerce\")\n",
    "data['TakeCSEM'] = pd.to_numeric(data['TakeCSEM'], errors = \"coerce\")\n",
    "data2 = data[pd.notnull(data['High.School.GPA'])]\n",
    "data2 = data2[pd.notnull(data2['ACTSATMathPercentile'])]\n",
    "data2 = data2[pd.notnull(data2['ACTSATVerbalPercentile'])]\n",
    "data2 = data2[pd.notnull(data2['Sem1GPA'])]"
   ]
  },
  {
   "cell_type": "code",
   "execution_count": 112,
   "metadata": {},
   "outputs": [
    {
     "data": {
      "text/plain": [
       "['LabQ1',\n",
       " 'Lab2',\n",
       " 'LabQ2',\n",
       " 'Lab3',\n",
       " 'SBonus1',\n",
       " 'SBonus2',\n",
       " 'FHwk2',\n",
       " 'LecQ1',\n",
       " 'LecQ5',\n",
       " 'LecQ9',\n",
       " 'Lab2Miss',\n",
       " 'Lab3Miss',\n",
       " 'Lec1Miss',\n",
       " 'Lec5Miss']"
      ]
     },
     "execution_count": 112,
     "metadata": {},
     "output_type": "execute_result"
    }
   ],
   "source": [
    "data2.columns[data2.isnull().any()].tolist()"
   ]
  },
  {
   "cell_type": "code",
   "execution_count": 113,
   "metadata": {},
   "outputs": [],
   "source": [
    "wk3 = data2"
   ]
  },
  {
   "cell_type": "code",
   "execution_count": 114,
   "metadata": {},
   "outputs": [],
   "source": [
    "wk3 = pd.DataFrame(wk3)\n"
   ]
  },
  {
   "cell_type": "code",
   "execution_count": 115,
   "metadata": {},
   "outputs": [
    {
     "data": {
      "text/plain": [
       "['LabQ1',\n",
       " 'Lab2',\n",
       " 'LabQ2',\n",
       " 'Lab3',\n",
       " 'SBonus1',\n",
       " 'SBonus2',\n",
       " 'FHwk2',\n",
       " 'LecQ1',\n",
       " 'LecQ5',\n",
       " 'LecQ9',\n",
       " 'Lab2Miss',\n",
       " 'Lab3Miss',\n",
       " 'Lec1Miss',\n",
       " 'Lec5Miss']"
      ]
     },
     "execution_count": 115,
     "metadata": {},
     "output_type": "execute_result"
    }
   ],
   "source": [
    "wk3.columns[wk3.isnull().any()].tolist()"
   ]
  },
  {
   "cell_type": "code",
   "execution_count": 117,
   "metadata": {},
   "outputs": [
    {
     "data": {
      "text/html": [
       "<div>\n",
       "<style>\n",
       "    .dataframe thead tr:only-child th {\n",
       "        text-align: right;\n",
       "    }\n",
       "\n",
       "    .dataframe thead th {\n",
       "        text-align: left;\n",
       "    }\n",
       "\n",
       "    .dataframe tbody tr th {\n",
       "        vertical-align: top;\n",
       "    }\n",
       "</style>\n",
       "<table border=\"1\" class=\"dataframe\">\n",
       "  <thead>\n",
       "    <tr style=\"text-align: right;\">\n",
       "      <th>col_0</th>\n",
       "      <th>count</th>\n",
       "    </tr>\n",
       "    <tr>\n",
       "      <th>LecQ1</th>\n",
       "      <th></th>\n",
       "    </tr>\n",
       "  </thead>\n",
       "  <tbody>\n",
       "    <tr>\n",
       "      <th>0.0</th>\n",
       "      <td>35</td>\n",
       "    </tr>\n",
       "    <tr>\n",
       "      <th>2.0</th>\n",
       "      <td>293</td>\n",
       "    </tr>\n",
       "  </tbody>\n",
       "</table>\n",
       "</div>"
      ],
      "text/plain": [
       "col_0  count\n",
       "LecQ1       \n",
       "0.0       35\n",
       "2.0      293"
      ]
     },
     "execution_count": 117,
     "metadata": {},
     "output_type": "execute_result"
    }
   ],
   "source": [
    "pd.crosstab(index = wk3['LecQ1'], columns = \"count\")"
   ]
  },
  {
   "cell_type": "markdown",
   "metadata": {},
   "source": [
    "## Making New Columns For Analysis"
   ]
  },
  {
   "cell_type": "code",
   "execution_count": 118,
   "metadata": {},
   "outputs": [],
   "source": [
    "import re\n",
    "\n",
    "regLecMis = re.compile(\".*(Lec)\\d(Miss).*\")\n",
    "lecmis = [m.group(0) for l in list(wk3) for m in[regLecMis.search(l)] if m]\n",
    "regSB = re.compile(\".*(SBonus)\\d.*\")\n",
    "SBonus = [m.group(0) for l in list(wk3) for m in[regSB.search(l)] if m]\n",
    "wk3['BonusPoints'] = wk3[SBonus].sum(axis = 1, skipna = True)"
   ]
  },
  {
   "cell_type": "code",
   "execution_count": 119,
   "metadata": {},
   "outputs": [],
   "source": [
    "wk3['MissedLectures'] = wk3[lecmis].sum(axis = 1, skipna = True)\n",
    "#Sum over the missed lectures"
   ]
  },
  {
   "cell_type": "code",
   "execution_count": 120,
   "metadata": {},
   "outputs": [],
   "source": [
    "wk3['MissedAnyLectures'] = np.where(wk3['MissedLectures'] > 0, 1,0)\n",
    "#wk3['TakeCSEM']"
   ]
  },
  {
   "cell_type": "code",
   "execution_count": 121,
   "metadata": {},
   "outputs": [],
   "source": [
    "\n",
    "\n",
    "regex = re.compile(\".*(LecQ).\")\n",
    "regLabQ = re.compile(\".*(LabQ).\")\n",
    "regLab1 = re.compile(\".*(Lab)\\d.*\")\n",
    "regLab2 = re.compile(\"^\\w{4,4}$\")\n",
    "regHw = re.compile(\".*(FHwk).\")\n",
    "#Define what we want out of the string\n",
    "\n",
    "lecQs = [m.group(0) for l in list(wk3) for m in[regex.search(l)] if m]\n",
    "#Creates a list \"lecQs\" for all of the instances of Lecture Quiz http://www.cademuir.eu/blog/2011/10/20/python-searching-for-a-string-within-a-list-list-comprehension/\n",
    "labQs = [m.group(0) for l in list(wk3) for m in[regLabQ.search(l)] if m]\n",
    "labs = [m.group(0) for l in list(wk3) for m in[regLab1.search(l)] if m]\n",
    "labs = [m.group(0) for l in list(labs) for m in[regLab2.search(l)] if m]\n",
    "Fhwks = [m.group(0) for l in list(wk3) for m in[regHw.search(l)] if m]"
   ]
  },
  {
   "cell_type": "code",
   "execution_count": 122,
   "metadata": {},
   "outputs": [],
   "source": [
    "wk3[lecQs] = np.where(wk3[lecQs] < 0, 0,wk3[lecQs])\n",
    "wk3['LecQGrade'] = wk3[lecQs].mean(axis = 1, skipna = True)\n",
    "#LecQAve\n",
    "wk3['LabQGrade'] = wk3[labQs].mean(axis = 1, skipna = True)\n",
    "wk3['HWGrade'] = wk3[Fhwks].mean(axis = 1, skipna = True)"
   ]
  },
  {
   "cell_type": "code",
   "execution_count": 123,
   "metadata": {},
   "outputs": [],
   "source": [
    "wk3[labs] = np.where(wk3[labs] < 0, 0,wk3[labs])"
   ]
  },
  {
   "cell_type": "markdown",
   "metadata": {},
   "source": [
    "# Optimal Model Class Dataset"
   ]
  },
  {
   "cell_type": "code",
   "execution_count": 126,
   "metadata": {},
   "outputs": [],
   "source": [
    "from sklearn.metrics import accuracy_score\n",
    "from sklearn.metrics import cohen_kappa_score\n",
    "from sklearn.model_selection import train_test_split\n",
    "\n",
    "names2 = [ 'LecQGrade', 'LabQGrade', 'HWGrade', 'MissedLectures', 'MissedAnyLectures', 'BonusPoints']\n",
    "\n",
    "X = wk3[names2]\n",
    "Y = wk3.filter(['FinalCourseGradeAB_Rest1'], axis = 1)\n",
    "Xtrain, Xtest, Ytrain, Ytest = train_test_split(\n",
    "    X,Y, test_size = 0.3, random_state = 416)"
   ]
  },
  {
   "cell_type": "code",
   "execution_count": 127,
   "metadata": {},
   "outputs": [
    {
     "data": {
      "text/plain": [
       "['FinalCourseGradeAB_Rest1']"
      ]
     },
     "execution_count": 127,
     "metadata": {},
     "output_type": "execute_result"
    }
   ],
   "source": [
    "list(Y)"
   ]
  },
  {
   "cell_type": "code",
   "execution_count": 128,
   "metadata": {},
   "outputs": [
    {
     "data": {
      "text/plain": [
       "RandomForestClassifier(bootstrap=True, class_weight=None, criterion='gini',\n",
       "            max_depth=None, max_features='auto', max_leaf_nodes=None,\n",
       "            min_impurity_decrease=0.0, min_impurity_split=None,\n",
       "            min_samples_leaf=1, min_samples_split=2,\n",
       "            min_weight_fraction_leaf=0.0, n_estimators=10000, n_jobs=1,\n",
       "            oob_score=False, random_state=416, verbose=0, warm_start=False)"
      ]
     },
     "execution_count": 128,
     "metadata": {},
     "output_type": "execute_result"
    }
   ],
   "source": [
    "forest = RandomForestClassifier(n_estimators = 10000, random_state = 416)\n",
    "forest.fit(Xtrain, Ytrain.values.ravel())"
   ]
  },
  {
   "cell_type": "code",
   "execution_count": 129,
   "metadata": {},
   "outputs": [
    {
     "data": {
      "image/png": "[encoded data removed]",
      "text/plain": [
       "<matplotlib.figure.Figure at 0x1d098e055c0>"
      ]
     },
     "metadata": {},
     "output_type": "display_data"
    }
   ],
   "source": [
    "n_features = Xtrain.shape[1]\n",
    "\n",
    "plt.figure(figsize=(5,11))\n",
    "plt.barh(range(n_features), forest.feature_importances_, align = 'center')\n",
    "plt.yticks(np.arange(n_features), list(Xtrain))\n",
    "plt.xlabel(\"Feature Importance\")\n",
    "plt.ylabel(\"Feature\")\n",
    "plt.ylim(-1, n_features)\n",
    "plt.show()"
   ]
  },
  {
   "cell_type": "code",
   "execution_count": 130,
   "metadata": {},
   "outputs": [],
   "source": [
    "prediction = forest.predict(Xtest)"
   ]
  },
  {
   "cell_type": "code",
   "execution_count": 131,
   "metadata": {},
   "outputs": [],
   "source": [
    "BLmeanAcc = 0.545191011236"
   ]
  },
  {
   "cell_type": "code",
   "execution_count": 132,
   "metadata": {},
   "outputs": [
    {
     "name": "stdout",
     "output_type": "stream",
     "text": [
      "Accuracy:  0.845303867403\n"
     ]
    }
   ],
   "source": [
    "forestAcc = accuracy_score(Ytest, prediction)\n",
    "print(\"Accuracy: \",forestAcc)"
   ]
  },
  {
   "cell_type": "code",
   "execution_count": 133,
   "metadata": {},
   "outputs": [
    {
     "name": "stdout",
     "output_type": "stream",
     "text": [
      "Improvement over baseline:  0.300112856167\n"
     ]
    }
   ],
   "source": [
    "forestAboveBaseline = forestAcc - BLmeanAcc\n",
    "print(\"Improvement over baseline: \", forestAboveBaseline)"
   ]
  },
  {
   "cell_type": "code",
   "execution_count": 134,
   "metadata": {},
   "outputs": [
    {
     "name": "stdout",
     "output_type": "stream",
     "text": [
      "Cohen's Kappa:  0.679969689315\n"
     ]
    }
   ],
   "source": [
    "forestKappa = cohen_kappa_score(Ytest,prediction)\n",
    "print(\"Cohen's Kappa: \",forestKappa)"
   ]
  },
  {
   "cell_type": "markdown",
   "metadata": {},
   "source": [
    "### Remove MissAnyLectures "
   ]
  },
  {
   "cell_type": "code",
   "execution_count": 135,
   "metadata": {},
   "outputs": [],
   "source": [
    "from sklearn.metrics import accuracy_score\n",
    "from sklearn.metrics import cohen_kappa_score\n",
    "from sklearn.model_selection import train_test_split\n",
    "\n",
    "names2 = [ 'LecQGrade', 'LabQGrade', 'HWGrade', 'MissedLectures', 'BonusPoints']\n",
    "\n",
    "X = wk3[names2]\n",
    "Y = wk3.filter(['FinalCourseGradeAB_Rest1'], axis = 1)\n",
    "Xtrain, Xtest, Ytrain, Ytest = train_test_split(\n",
    "    X,Y, test_size = 0.3, random_state = 416)"
   ]
  },
  {
   "cell_type": "code",
   "execution_count": 136,
   "metadata": {},
   "outputs": [
    {
     "data": {
      "text/plain": [
       "['FinalCourseGradeAB_Rest1']"
      ]
     },
     "execution_count": 136,
     "metadata": {},
     "output_type": "execute_result"
    }
   ],
   "source": [
    "list(Y)"
   ]
  },
  {
   "cell_type": "code",
   "execution_count": 137,
   "metadata": {},
   "outputs": [
    {
     "data": {
      "text/plain": [
       "RandomForestClassifier(bootstrap=True, class_weight=None, criterion='gini',\n",
       "            max_depth=None, max_features='auto', max_leaf_nodes=None,\n",
       "            min_impurity_decrease=0.0, min_impurity_split=None,\n",
       "            min_samples_leaf=1, min_samples_split=2,\n",
       "            min_weight_fraction_leaf=0.0, n_estimators=10000, n_jobs=1,\n",
       "            oob_score=False, random_state=416, verbose=0, warm_start=False)"
      ]
     },
     "execution_count": 137,
     "metadata": {},
     "output_type": "execute_result"
    }
   ],
   "source": [
    "forest = RandomForestClassifier(n_estimators = 10000, random_state = 416)\n",
    "forest.fit(Xtrain, Ytrain.values.ravel())"
   ]
  },
  {
   "cell_type": "code",
   "execution_count": 138,
   "metadata": {},
   "outputs": [
    {
     "data": {
      "image/png": "[encoded data removed]",
      "text/plain": [
       "<matplotlib.figure.Figure at 0x1d09f754550>"
      ]
     },
     "metadata": {},
     "output_type": "display_data"
    }
   ],
   "source": [
    "n_features = Xtrain.shape[1]\n",
    "\n",
    "plt.figure(figsize=(5,11))\n",
    "plt.barh(range(n_features), forest.feature_importances_, align = 'center')\n",
    "plt.yticks(np.arange(n_features), list(Xtrain))\n",
    "plt.xlabel(\"Feature Importance\")\n",
    "plt.ylabel(\"Feature\")\n",
    "plt.ylim(-1, n_features)\n",
    "plt.show()"
   ]
  },
  {
   "cell_type": "code",
   "execution_count": 139,
   "metadata": {},
   "outputs": [],
   "source": [
    "prediction = forest.predict(Xtest)"
   ]
  },
  {
   "cell_type": "code",
   "execution_count": 140,
   "metadata": {},
   "outputs": [],
   "source": [
    "BLmeanAcc = 0.545191011236"
   ]
  },
  {
   "cell_type": "code",
   "execution_count": 141,
   "metadata": {},
   "outputs": [
    {
     "name": "stdout",
     "output_type": "stream",
     "text": [
      "Accuracy:  0.828729281768\n"
     ]
    }
   ],
   "source": [
    "forestAcc = accuracy_score(Ytest, prediction)\n",
    "print(\"Accuracy: \",forestAcc)"
   ]
  },
  {
   "cell_type": "code",
   "execution_count": 142,
   "metadata": {},
   "outputs": [
    {
     "name": "stdout",
     "output_type": "stream",
     "text": [
      "Improvement over baseline:  0.283538270532\n"
     ]
    }
   ],
   "source": [
    "forestAboveBaseline = forestAcc - BLmeanAcc\n",
    "print(\"Improvement over baseline: \", forestAboveBaseline)"
   ]
  },
  {
   "cell_type": "code",
   "execution_count": 143,
   "metadata": {},
   "outputs": [
    {
     "name": "stdout",
     "output_type": "stream",
     "text": [
      "Cohen's Kappa:  0.646417543639\n"
     ]
    }
   ],
   "source": [
    "forestKappa = cohen_kappa_score(Ytest,prediction)\n",
    "print(\"Cohen's Kappa: \",forestKappa)"
   ]
  },
  {
   "cell_type": "markdown",
   "metadata": {},
   "source": [
    "### Remove Missed Lectures "
   ]
  },
  {
   "cell_type": "code",
   "execution_count": 144,
   "metadata": {},
   "outputs": [],
   "source": [
    "from sklearn.metrics import accuracy_score\n",
    "from sklearn.metrics import cohen_kappa_score\n",
    "from sklearn.model_selection import train_test_split\n",
    "\n",
    "names2 = [ 'LecQGrade', 'LabQGrade', 'HWGrade', 'BonusPoints']\n",
    "\n",
    "X = wk3[names2]\n",
    "Y = wk3.filter(['FinalCourseGradeAB_Rest1'], axis = 1)\n",
    "Xtrain, Xtest, Ytrain, Ytest = train_test_split(\n",
    "    X,Y, test_size = 0.3, random_state = 416)"
   ]
  },
  {
   "cell_type": "code",
   "execution_count": 145,
   "metadata": {},
   "outputs": [
    {
     "data": {
      "text/plain": [
       "['FinalCourseGradeAB_Rest1']"
      ]
     },
     "execution_count": 145,
     "metadata": {},
     "output_type": "execute_result"
    }
   ],
   "source": [
    "list(Y)"
   ]
  },
  {
   "cell_type": "code",
   "execution_count": 146,
   "metadata": {},
   "outputs": [
    {
     "data": {
      "text/plain": [
       "RandomForestClassifier(bootstrap=True, class_weight=None, criterion='gini',\n",
       "            max_depth=None, max_features='auto', max_leaf_nodes=None,\n",
       "            min_impurity_decrease=0.0, min_impurity_split=None,\n",
       "            min_samples_leaf=1, min_samples_split=2,\n",
       "            min_weight_fraction_leaf=0.0, n_estimators=10000, n_jobs=1,\n",
       "            oob_score=False, random_state=416, verbose=0, warm_start=False)"
      ]
     },
     "execution_count": 146,
     "metadata": {},
     "output_type": "execute_result"
    }
   ],
   "source": [
    "forest = RandomForestClassifier(n_estimators = 10000, random_state = 416)\n",
    "forest.fit(Xtrain, Ytrain.values.ravel())"
   ]
  },
  {
   "cell_type": "code",
   "execution_count": 147,
   "metadata": {},
   "outputs": [
    {
     "data": {
      "image/png": "[encoded data removed]",
      "text/plain": [
       "<matplotlib.figure.Figure at 0x1d098def898>"
      ]
     },
     "metadata": {},
     "output_type": "display_data"
    }
   ],
   "source": [
    "n_features = Xtrain.shape[1]\n",
    "\n",
    "plt.figure(figsize=(5,11))\n",
    "plt.barh(range(n_features), forest.feature_importances_, align = 'center')\n",
    "plt.yticks(np.arange(n_features), list(Xtrain))\n",
    "plt.xlabel(\"Feature Importance\")\n",
    "plt.ylabel(\"Feature\")\n",
    "plt.ylim(-1, n_features)\n",
    "plt.show()"
   ]
  },
  {
   "cell_type": "code",
   "execution_count": 148,
   "metadata": {},
   "outputs": [],
   "source": [
    "prediction = forest.predict(Xtest)"
   ]
  },
  {
   "cell_type": "code",
   "execution_count": 149,
   "metadata": {},
   "outputs": [],
   "source": [
    "BLmeanAcc = 0.545191011236"
   ]
  },
  {
   "cell_type": "code",
   "execution_count": 150,
   "metadata": {},
   "outputs": [
    {
     "name": "stdout",
     "output_type": "stream",
     "text": [
      "Accuracy:  0.795580110497\n"
     ]
    }
   ],
   "source": [
    "forestAcc = accuracy_score(Ytest, prediction)\n",
    "print(\"Accuracy: \",forestAcc)"
   ]
  },
  {
   "cell_type": "code",
   "execution_count": 151,
   "metadata": {},
   "outputs": [
    {
     "name": "stdout",
     "output_type": "stream",
     "text": [
      "Improvement over baseline:  0.250389099261\n"
     ]
    }
   ],
   "source": [
    "forestAboveBaseline = forestAcc - BLmeanAcc\n",
    "print(\"Improvement over baseline: \", forestAboveBaseline)"
   ]
  },
  {
   "cell_type": "code",
   "execution_count": 152,
   "metadata": {},
   "outputs": [
    {
     "name": "stdout",
     "output_type": "stream",
     "text": [
      "Cohen's Kappa:  0.577982229504\n"
     ]
    }
   ],
   "source": [
    "forestKappa = cohen_kappa_score(Ytest,prediction)\n",
    "print(\"Cohen's Kappa: \",forestKappa)"
   ]
  },
  {
   "cell_type": "markdown",
   "metadata": {},
   "source": [
    "### Cut at 0.01"
   ]
  },
  {
   "cell_type": "code",
   "execution_count": 153,
   "metadata": {},
   "outputs": [],
   "source": [
    "from sklearn.metrics import accuracy_score\n",
    "from sklearn.metrics import cohen_kappa_score\n",
    "from sklearn.model_selection import train_test_split\n",
    "\n",
    "names2 = [ 'LecQGrade', 'LabQGrade', 'HWGrade']\n",
    "\n",
    "X = wk3[names2]\n",
    "Y = wk3.filter(['FinalCourseGradeAB_Rest1'], axis = 1)\n",
    "Xtrain, Xtest, Ytrain, Ytest = train_test_split(\n",
    "    X,Y, test_size = 0.3, random_state = 416)"
   ]
  },
  {
   "cell_type": "code",
   "execution_count": 154,
   "metadata": {},
   "outputs": [
    {
     "data": {
      "text/plain": [
       "['FinalCourseGradeAB_Rest1']"
      ]
     },
     "execution_count": 154,
     "metadata": {},
     "output_type": "execute_result"
    }
   ],
   "source": [
    "list(Y)"
   ]
  },
  {
   "cell_type": "code",
   "execution_count": 155,
   "metadata": {},
   "outputs": [
    {
     "data": {
      "text/plain": [
       "RandomForestClassifier(bootstrap=True, class_weight=None, criterion='gini',\n",
       "            max_depth=None, max_features='auto', max_leaf_nodes=None,\n",
       "            min_impurity_decrease=0.0, min_impurity_split=None,\n",
       "            min_samples_leaf=1, min_samples_split=2,\n",
       "            min_weight_fraction_leaf=0.0, n_estimators=10000, n_jobs=1,\n",
       "            oob_score=False, random_state=416, verbose=0, warm_start=False)"
      ]
     },
     "execution_count": 155,
     "metadata": {},
     "output_type": "execute_result"
    }
   ],
   "source": [
    "forest = RandomForestClassifier(n_estimators = 10000, random_state = 416)\n",
    "forest.fit(Xtrain, Ytrain.values.ravel())"
   ]
  },
  {
   "cell_type": "code",
   "execution_count": 156,
   "metadata": {},
   "outputs": [
    {
     "data": {
      "image/png": "[encoded data removed]",
      "text/plain": [
       "<matplotlib.figure.Figure at 0x1d0a1bea7f0>"
      ]
     },
     "metadata": {},
     "output_type": "display_data"
    }
   ],
   "source": [
    "n_features = Xtrain.shape[1]\n",
    "\n",
    "plt.figure(figsize=(5,11))\n",
    "plt.barh(range(n_features), forest.feature_importances_, align = 'center')\n",
    "plt.yticks(np.arange(n_features), list(Xtrain))\n",
    "plt.xlabel(\"Feature Importance\")\n",
    "plt.ylabel(\"Feature\")\n",
    "plt.ylim(-1, n_features)\n",
    "plt.show()"
   ]
  },
  {
   "cell_type": "code",
   "execution_count": 157,
   "metadata": {},
   "outputs": [],
   "source": [
    "prediction = forest.predict(Xtest)"
   ]
  },
  {
   "cell_type": "code",
   "execution_count": 158,
   "metadata": {},
   "outputs": [],
   "source": [
    "BLmeanAcc = 0.545191011236"
   ]
  },
  {
   "cell_type": "code",
   "execution_count": 159,
   "metadata": {},
   "outputs": [
    {
     "name": "stdout",
     "output_type": "stream",
     "text": [
      "Accuracy:  0.78453038674\n"
     ]
    }
   ],
   "source": [
    "forestAcc = accuracy_score(Ytest, prediction)\n",
    "print(\"Accuracy: \",forestAcc)"
   ]
  },
  {
   "cell_type": "code",
   "execution_count": 160,
   "metadata": {},
   "outputs": [
    {
     "name": "stdout",
     "output_type": "stream",
     "text": [
      "Improvement over baseline:  0.239339375504\n"
     ]
    }
   ],
   "source": [
    "forestAboveBaseline = forestAcc - BLmeanAcc\n",
    "print(\"Improvement over baseline: \", forestAboveBaseline)"
   ]
  },
  {
   "cell_type": "code",
   "execution_count": 161,
   "metadata": {
    "scrolled": true
   },
   "outputs": [
    {
     "name": "stdout",
     "output_type": "stream",
     "text": [
      "Cohen's Kappa:  0.553312662153\n"
     ]
    }
   ],
   "source": [
    "forestKappa = cohen_kappa_score(Ytest,prediction)\n",
    "print(\"Cohen's Kappa: \",forestKappa)"
   ]
  },
  {
   "cell_type": "markdown",
   "metadata": {},
   "source": [
    "### Just HW grade"
   ]
  },
  {
   "cell_type": "code",
   "execution_count": 162,
   "metadata": {},
   "outputs": [],
   "source": [
    "logreg = LogisticRegression()\n",
    "X2 = Xtrain['HWGrade']\n",
    "X3 = Xtest['HWGrade']"
   ]
  },
  {
   "cell_type": "code",
   "execution_count": 163,
   "metadata": {},
   "outputs": [],
   "source": [
    "X2 = pd.DataFrame(X2)\n",
    "X3 = pd.DataFrame(X3)"
   ]
  },
  {
   "cell_type": "code",
   "execution_count": 164,
   "metadata": {},
   "outputs": [
    {
     "data": {
      "text/plain": [
       "LogisticRegression(C=1.0, class_weight=None, dual=False, fit_intercept=True,\n",
       "          intercept_scaling=1, max_iter=100, multi_class='ovr', n_jobs=1,\n",
       "          penalty='l2', random_state=None, solver='liblinear', tol=0.0001,\n",
       "          verbose=0, warm_start=False)"
      ]
     },
     "execution_count": 164,
     "metadata": {},
     "output_type": "execute_result"
    }
   ],
   "source": [
    "logreg.fit(X2, Ytrain.values.ravel())"
   ]
  },
  {
   "cell_type": "code",
   "execution_count": 165,
   "metadata": {},
   "outputs": [],
   "source": [
    "predictions = logreg.predict(X3)"
   ]
  },
  {
   "cell_type": "code",
   "execution_count": 166,
   "metadata": {},
   "outputs": [
    {
     "data": {
      "text/plain": [
       "0.77900552486187846"
      ]
     },
     "execution_count": 166,
     "metadata": {},
     "output_type": "execute_result"
    }
   ],
   "source": [
    "accuracy_score(Ytest, predictions)"
   ]
  },
  {
   "cell_type": "code",
   "execution_count": 167,
   "metadata": {},
   "outputs": [],
   "source": [
    "from sklearn.metrics import accuracy_score\n",
    "from sklearn.metrics import cohen_kappa_score\n",
    "from sklearn.model_selection import train_test_split\n",
    "\n",
    "names2 = ['HWGrade']\n",
    "\n",
    "X = wk3[names2]\n",
    "Y = wk3.filter(['FinalCourseGradeAB_Rest1'], axis = 1)\n",
    "Xtrain, Xtest, Ytrain, Ytest = train_test_split(\n",
    "    X,Y, test_size = 0.3, random_state = 416)"
   ]
  },
  {
   "cell_type": "code",
   "execution_count": 168,
   "metadata": {},
   "outputs": [
    {
     "data": {
      "text/plain": [
       "['FinalCourseGradeAB_Rest1']"
      ]
     },
     "execution_count": 168,
     "metadata": {},
     "output_type": "execute_result"
    }
   ],
   "source": [
    "list(Y)"
   ]
  },
  {
   "cell_type": "code",
   "execution_count": 169,
   "metadata": {},
   "outputs": [
    {
     "data": {
      "text/plain": [
       "RandomForestClassifier(bootstrap=True, class_weight=None, criterion='gini',\n",
       "            max_depth=None, max_features='auto', max_leaf_nodes=None,\n",
       "            min_impurity_decrease=0.0, min_impurity_split=None,\n",
       "            min_samples_leaf=1, min_samples_split=2,\n",
       "            min_weight_fraction_leaf=0.0, n_estimators=10000, n_jobs=1,\n",
       "            oob_score=False, random_state=416, verbose=0, warm_start=False)"
      ]
     },
     "execution_count": 169,
     "metadata": {},
     "output_type": "execute_result"
    }
   ],
   "source": [
    "forest = RandomForestClassifier(n_estimators = 10000, random_state = 416)\n",
    "forest.fit(Xtrain, Ytrain.values.ravel())"
   ]
  },
  {
   "cell_type": "code",
   "execution_count": 170,
   "metadata": {},
   "outputs": [
    {
     "data": {
      "image/png": "[encoded data removed]",
      "text/plain": [
       "<matplotlib.figure.Figure at 0x1d0a1bd2128>"
      ]
     },
     "metadata": {},
     "output_type": "display_data"
    }
   ],
   "source": [
    "n_features = Xtrain.shape[1]\n",
    "\n",
    "plt.figure(figsize=(5,11))\n",
    "plt.barh(range(n_features), forest.feature_importances_, align = 'center')\n",
    "plt.yticks(np.arange(n_features), list(Xtrain))\n",
    "plt.xlabel(\"Feature Importance\")\n",
    "plt.ylabel(\"Feature\")\n",
    "plt.ylim(-1, n_features)\n",
    "plt.show()"
   ]
  },
  {
   "cell_type": "code",
   "execution_count": 171,
   "metadata": {},
   "outputs": [],
   "source": [
    "prediction = forest.predict(Xtest)"
   ]
  },
  {
   "cell_type": "code",
   "execution_count": 172,
   "metadata": {},
   "outputs": [],
   "source": [
    "BLmeanAcc = 0.545191011236"
   ]
  },
  {
   "cell_type": "code",
   "execution_count": 173,
   "metadata": {},
   "outputs": [
    {
     "name": "stdout",
     "output_type": "stream",
     "text": [
      "Accuracy:  0.729281767956\n"
     ]
    }
   ],
   "source": [
    "forestAcc = accuracy_score(Ytest, prediction)\n",
    "print(\"Accuracy: \",forestAcc)"
   ]
  },
  {
   "cell_type": "code",
   "execution_count": 174,
   "metadata": {},
   "outputs": [
    {
     "name": "stdout",
     "output_type": "stream",
     "text": [
      "Improvement over baseline:  0.18409075672\n"
     ]
    }
   ],
   "source": [
    "forestAboveBaseline = forestAcc - BLmeanAcc\n",
    "print(\"Improvement over baseline: \", forestAboveBaseline)"
   ]
  },
  {
   "cell_type": "code",
   "execution_count": 175,
   "metadata": {
    "scrolled": true
   },
   "outputs": [
    {
     "name": "stdout",
     "output_type": "stream",
     "text": [
      "Cohen's Kappa:  0.41937806874\n"
     ]
    }
   ],
   "source": [
    "forestKappa = cohen_kappa_score(Ytest,prediction)\n",
    "print(\"Cohen's Kappa: \",forestKappa)"
   ]
  },
  {
   "cell_type": "markdown",
   "metadata": {},
   "source": [
    "## Layered Model with Demo-Variables"
   ]
  },
  {
   "cell_type": "code",
   "execution_count": 187,
   "metadata": {},
   "outputs": [
    {
     "name": "stdout",
     "output_type": "stream",
     "text": [
      "LecQGrade                 float64\n",
      "LabQGrade                 float64\n",
      "HWGrade                   float64\n",
      "MissedLectures            float64\n",
      "MissedAnyLectures           int32\n",
      "BonusPoints               float64\n",
      "High.School.GPA           float64\n",
      "ACTSATMathPercentile      float64\n",
      "ACTSATVerbalPercentile    float64\n",
      "Sem1GPA                   float64\n",
      "P111FirstGradeNUM         float64\n",
      "Cal1FirstGradeNUM         float64\n",
      "dtype: object\n"
     ]
    }
   ],
   "source": [
    "from sklearn.model_selection import train_test_split\n",
    "\n",
    "names = [ 'LecQGrade', 'LabQGrade', 'HWGrade', 'MissedLectures', 'MissedAnyLectures', 'BonusPoints',\n",
    "         \"High.School.GPA\",\"ACTSATMathPercentile\",\n",
    "         \"ACTSATVerbalPercentile\",\"Sem1GPA\",\n",
    "'P111FirstGradeNUM',\"Cal1FirstGradeNUM\"]\n",
    "\n",
    "wk3['FinalCourseGradeAB_Rest1'] = np.where(wk3['FinalCourseGradeAB_Rest'] == \"AB\", 1,0)\n",
    "#X = wk3.drop('FinalCourseGradeAB_Rest', axis = 1)\n",
    "X = wk3[names]\n",
    "Y = wk3.filter(['FinalCourseGradeAB_Rest1'], axis = 1)\n",
    "Xtrain, Xtest, Ytrain, Ytest = train_test_split(\n",
    "    X,Y, test_size = 0.3, random_state = 416)\n",
    "\n",
    "\n",
    "print(Xtrain.dtypes)"
   ]
  },
  {
   "cell_type": "markdown",
   "metadata": {},
   "source": [
    "### Evaluation of Best ML Algorithm"
   ]
  },
  {
   "cell_type": "code",
   "execution_count": 188,
   "metadata": {},
   "outputs": [
    {
     "name": "stdout",
     "output_type": "stream",
     "text": [
      "LR: 0.826190 (0.081823)\n",
      "LDA: 0.828571 (0.059094)\n",
      "KNN: 0.742857 (0.073617)\n",
      "CART: 0.790476 (0.053026)\n",
      "NB: 0.795238 (0.066667)\n",
      "SVM: 0.740476 (0.061583)\n",
      "RF: 0.821429 (0.046718)\n",
      "LR: 0.811404 (0.067255)\n",
      "LDA: 0.816959 (0.075246)\n",
      "KNN: 0.735380 (0.108442)\n",
      "CART: 0.745322 (0.087714)\n",
      "NB: 0.795614 (0.070303)\n",
      "SVM: 0.696784 (0.087054)\n"
     ]
    },
    {
     "name": "stderr",
     "output_type": "stream",
     "text": [
      "C:\\Users\\Lynn\\Anaconda3\\lib\\site-packages\\sklearn\\discriminant_analysis.py:388: UserWarning: Variables are collinear.\n",
      "  warnings.warn(\"Variables are collinear.\")\n"
     ]
    },
    {
     "name": "stdout",
     "output_type": "stream",
     "text": [
      "RF: 0.795322 (0.079239)\n",
      "RF: 0.554802 (0.172796)\n",
      "RF: 0.577176 (0.169049)\n",
      "RF: 0.365839 (0.262080)\n",
      "RF: 0.472324 (0.230206)\n",
      "RF: 0.505185 (0.181088)\n",
      "RF: 0.209388 (0.177149)\n"
     ]
    },
    {
     "name": "stderr",
     "output_type": "stream",
     "text": [
      "C:\\Users\\Lynn\\Anaconda3\\lib\\site-packages\\sklearn\\discriminant_analysis.py:388: UserWarning: Variables are collinear.\n",
      "  warnings.warn(\"Variables are collinear.\")\n"
     ]
    },
    {
     "name": "stdout",
     "output_type": "stream",
     "text": [
      "RF: 0.607853 (0.149124)\n",
      "RF: 0.554802 (0.172796)\n",
      "RF: 0.577176 (0.169049)\n",
      "RF: 0.365839 (0.262080)\n",
      "RF: 0.449076 (0.186440)\n",
      "RF: 0.505185 (0.181088)\n",
      "RF: 0.209388 (0.177149)\n"
     ]
    },
    {
     "name": "stderr",
     "output_type": "stream",
     "text": [
      "C:\\Users\\Lynn\\Anaconda3\\lib\\site-packages\\sklearn\\discriminant_analysis.py:388: UserWarning: Variables are collinear.\n",
      "  warnings.warn(\"Variables are collinear.\")\n"
     ]
    },
    {
     "name": "stdout",
     "output_type": "stream",
     "text": [
      "RF: 0.671416 (0.202498)\n"
     ]
    }
   ],
   "source": [
    "seed = 416\n",
    "# prepare models\n",
    "models = []\n",
    "models.append(('LR', LogisticRegression()))\n",
    "models.append(('LDA', LinearDiscriminantAnalysis()))\n",
    "models.append(('KNN', KNeighborsClassifier()))\n",
    "models.append(('CART', DecisionTreeClassifier()))\n",
    "models.append(('NB', GaussianNB()))\n",
    "models.append(('SVM', SVC()))\n",
    "#models.append(('KMeans',KMeans()))\n",
    "models.append(('RF', RandomForestClassifier()))\n",
    "# evaluate each model in turn\n",
    "results = []\n",
    "results2 = []\n",
    "results3 = []\n",
    "results4 = []\n",
    "names = []\n",
    "names2 = []\n",
    "names3 = []\n",
    "names4 = []\n",
    "scoring = 'accuracy'\n",
    "\n",
    "\n",
    "for name, model in models:\n",
    "\tkfold = model_selection.KFold(n_splits=10, random_state=seed)\n",
    "\tcv_results = model_selection.cross_val_score(model, Xtrain, Ytrain.values.ravel(), cv=kfold, scoring=scoring)\n",
    "\tresults.append(cv_results)\n",
    "\tnames.append(name)\n",
    "\tmsg = \"%s: %f (%f)\" % (name, cv_results.mean(), cv_results.std())\n",
    "\tprint(msg)\n",
    "\n",
    "for name2, model in models:\n",
    "\tkfold = model_selection.KFold(n_splits=10, random_state=seed)\n",
    "\tcv_results = model_selection.cross_val_score(model, Xtest, Ytest.values.ravel(), cv=kfold, scoring=scoring)\n",
    "\tresults2.append(cv_results)\n",
    "\tnames2.append(name2)\n",
    "\tmsg = \"%s: %f (%f)\" % (name2, cv_results.mean(), cv_results.std())\n",
    "\tprint(msg)\n",
    "\n",
    "from sklearn.metrics import cohen_kappa_score, make_scorer\n",
    "kappa_scorer = make_scorer(cohen_kappa_score)\n",
    "\n",
    "for name3, model in models:\n",
    "\tkfold = model_selection.KFold(n_splits=10, random_state=seed)\n",
    "\tcv_results = model_selection.cross_val_score(model, Xtest, Ytest.values.ravel(), cv=kfold, scoring=kappa_scorer)\n",
    "\tresults3.append(cv_results)\n",
    "\tnames3.append(name3)\n",
    "\tmsg = \"%s: %f (%f)\" % (name2, cv_results.mean(), cv_results.std())\n",
    "\tprint(msg)\n",
    "\n",
    "for name4, model in models:\n",
    "\tkfold = model_selection.KFold(n_splits=10, random_state=seed)\n",
    "\tcv_results = model_selection.cross_val_score(model, Xtest, Ytest.values.ravel(), cv=kfold, scoring=kappa_scorer)\n",
    "\tresults4.append(cv_results)\n",
    "\tnames4.append(name4)\n",
    "\tmsg = \"%s: %f (%f)\" % (name2, cv_results.mean(), cv_results.std())\n",
    "\tprint(msg)"
   ]
  },
  {
   "cell_type": "code",
   "execution_count": 189,
   "metadata": {},
   "outputs": [
    {
     "data": {
      "image/png": "[encoded data removed]",
      "text/plain": [
       "<matplotlib.figure.Figure at 0x1d0966a15f8>"
      ]
     },
     "metadata": {},
     "output_type": "display_data"
    }
   ],
   "source": [
    "fig = plt.figure(figsize = (9,9))\n",
    "fig.suptitle('Algorithm Comparison')\n",
    "ax = fig.add_subplot(221)\n",
    "plt.boxplot(results)\n",
    "ax.set_xticklabels(names2)\n",
    "plt.title(\"Training CV Accuracy\")\n",
    "ax = fig.add_subplot(223)\n",
    "plt.boxplot(results2)\n",
    "ax.set_xticklabels(names2)\n",
    "plt.title(\"Test CV Accuracy\")\n",
    "ax = fig.add_subplot(222)\n",
    "plt.boxplot(results3)\n",
    "ax.set_xticklabels(names2)\n",
    "plt.title('Training CV Kappa')\n",
    "ax = fig.add_subplot(224)\n",
    "plt.boxplot(results4)\n",
    "ax.set_xticklabels(names2)\n",
    "plt.title(\"Training CV Kappa\")\n",
    "plt.show()"
   ]
  },
  {
   "cell_type": "code",
   "execution_count": 190,
   "metadata": {},
   "outputs": [
    {
     "data": {
      "text/plain": [
       "RandomForestClassifier(bootstrap=True, class_weight=None, criterion='gini',\n",
       "            max_depth=None, max_features='auto', max_leaf_nodes=None,\n",
       "            min_impurity_decrease=0.0, min_impurity_split=None,\n",
       "            min_samples_leaf=1, min_samples_split=2,\n",
       "            min_weight_fraction_leaf=0.0, n_estimators=10000, n_jobs=1,\n",
       "            oob_score=False, random_state=416, verbose=0, warm_start=False)"
      ]
     },
     "execution_count": 190,
     "metadata": {},
     "output_type": "execute_result"
    }
   ],
   "source": [
    "forest = RandomForestClassifier(n_estimators = 10000, random_state = 416)\n",
    "forest.fit(Xtrain, Ytrain.values.ravel())"
   ]
  },
  {
   "cell_type": "code",
   "execution_count": 191,
   "metadata": {},
   "outputs": [
    {
     "data": {
      "image/png": "[encoded data removed]",
      "text/plain": [
       "<matplotlib.figure.Figure at 0x1d09ccf8048>"
      ]
     },
     "metadata": {},
     "output_type": "display_data"
    }
   ],
   "source": [
    "n_features = Xtrain.shape[1]\n",
    "\n",
    "\n",
    "plt.barh(range(n_features), forest.feature_importances_, align = 'center')\n",
    "plt.yticks(np.arange(n_features), list(Xtrain))\n",
    "plt.xlabel(\"Feature Importance\")\n",
    "plt.ylabel(\"Feature\")\n",
    "plt.ylim(-1, n_features)\n",
    "plt.show()"
   ]
  },
  {
   "cell_type": "code",
   "execution_count": 192,
   "metadata": {},
   "outputs": [],
   "source": [
    "prediction = forest.predict(Xtest)"
   ]
  },
  {
   "cell_type": "code",
   "execution_count": 193,
   "metadata": {},
   "outputs": [
    {
     "name": "stdout",
     "output_type": "stream",
     "text": [
      "Demo Baseline Accuracy:  0.806629834254\n"
     ]
    }
   ],
   "source": [
    "names = [\"High.School.GPA\",\"ACTSATMathPercentile\",\"ACTSATVerbalPercentile\",\"Sem1GPA\",\n",
    "'P111FirstGradeNUM',\"Cal1FirstGradeNUM\"]\n",
    "\n",
    "wk3['FinalCourseGradeAB_Rest1'] = np.where(wk3['FinalCourseGradeAB_Rest'] == \"AB\", 1,0)\n",
    "#X = wk3.drop('FinalCourseGradeAB_Rest', axis = 1)\n",
    "X = wk3[names]\n",
    "Y = wk3.filter(['FinalCourseGradeAB_Rest1'], axis = 1)\n",
    "Xtrain, Xtest, Ytrain, Ytest = train_test_split(\n",
    "    X,Y, test_size = 0.3, random_state = 416)\n",
    "demof = RandomForestClassifier(n_estimators = 10000, random_state = 416)\n",
    "demof.fit(Xtrain, Ytrain.values.ravel())\n",
    "pred = demof.predict(Xtest)\n",
    "DemoAcc = accuracy_score(Ytest, pred)\n",
    "print(\"Demo Baseline Accuracy: \", DemoAcc)"
   ]
  },
  {
   "cell_type": "code",
   "execution_count": 194,
   "metadata": {},
   "outputs": [
    {
     "name": "stdout",
     "output_type": "stream",
     "text": [
      "Accuracy:  0.845303867403\n"
     ]
    }
   ],
   "source": [
    "forestAcc = accuracy_score(Ytest, prediction)\n",
    "print(\"Accuracy: \",forestAcc)"
   ]
  },
  {
   "cell_type": "code",
   "execution_count": 195,
   "metadata": {},
   "outputs": [
    {
     "name": "stdout",
     "output_type": "stream",
     "text": [
      "Improvement over baseline:  0.300112856167\n"
     ]
    }
   ],
   "source": [
    "forestAboveBaseline = forestAcc - BLmeanAcc\n",
    "print(\"Improvement over baseline: \", forestAboveBaseline)"
   ]
  },
  {
   "cell_type": "code",
   "execution_count": 196,
   "metadata": {},
   "outputs": [
    {
     "name": "stdout",
     "output_type": "stream",
     "text": [
      "Improvement of Adding Class Variables:  0.0386740331492\n"
     ]
    }
   ],
   "source": [
    "forestAboveDemoBaseline = forestAcc - DemoAcc\n",
    "print(\"Improvement of Adding Class Variables: \", forestAboveDemoBaseline)"
   ]
  },
  {
   "cell_type": "code",
   "execution_count": 197,
   "metadata": {
    "scrolled": true
   },
   "outputs": [
    {
     "name": "stdout",
     "output_type": "stream",
     "text": [
      "Cohen's Kappa:  0.656732592793\n"
     ]
    }
   ],
   "source": [
    "forestKappa = cohen_kappa_score(Ytest,prediction)\n",
    "print(\"Cohen's Kappa: \",forestKappa)"
   ]
  },
  {
   "cell_type": "code",
   "execution_count": null,
   "metadata": {},
   "outputs": [],
   "source": []
  }
 ],
 "metadata": {
  "kernelspec": {
   "display_name": "Python 3",
   "language": "python",
   "name": "python3"
  },
  "language_info": {
   "codemirror_mode": {
    "name": "ipython",
    "version": 3
   },
   "file_extension": ".py",
   "mimetype": "text/x-python",
   "name": "python",
   "nbconvert_exporter": "python",
   "pygments_lexer": "ipython3",
   "version": "3.6.3"
  }
 },
 "nbformat": 4,
 "nbformat_minor": 2
}
